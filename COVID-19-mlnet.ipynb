{
 "cells": [
  {
   "cell_type": "markdown",
   "metadata": {},
   "source": [
    "# COVID-19 Data Analysis using .Net DataFrame API"
   ]
  },
  {
   "cell_type": "markdown",
   "metadata": {},
   "source": [
    "## COVID-19\n",
    "- As per [Wiki](https://en.wikipedia.org/wiki/Coronavirus_disease_2019) **Coronavirus disease 2019** (**COVID-19**) is an infectious disease caused by severe acute respiratory syndrome coronavirus 2 (SARS-CoV-2). The disease was first identified in 2019 in Wuhan, the capital of China's Hubei province, and has since spread globally, resulting in the ongoing 2019–20 coronavirus pandemic.\n",
    "- The virus had caused a pandemic across the globe and spreading/affecting most of the nations. \n",
    "- The purpose of notebook is to visualize the trends of virus spread in various countries and explore features present in ML.Net such as DataFrame."
   ]
  },
  {
   "cell_type": "markdown",
   "metadata": {},
   "source": [
    "### Acknowledgement\n",
    "- [Johns Hopkins CSSE](https://github.com/CSSEGISandData/COVID-19/raw/master/csse_covid_19_data) for dataset\n",
    "- [COVID-19 data visualization](https://www.kaggle.com/akshaysb/covid-19-data-visualization) by Akshay Sb"
   ]
  },
  {
   "cell_type": "markdown",
   "metadata": {},
   "source": [
    "### Dataset\n",
    "\n",
    "- [2019 Novel Coronavirus COVID-19 (2019-nCoV) Data Repository by Johns Hopkins CSSE - Daily reports](https://github.com/CSSEGISandData/COVID-19/raw/master/csse_covid_19_data/csse_covid_19_daily_reports)."
   ]
  },
  {
   "cell_type": "markdown",
   "metadata": {},
   "source": [
    "### Introduction \n",
    "\n",
    "**DataFrame**: DataFrame is a new type introduced in .Net. It is similar to DataFrame in Python which is used to manipulate data in notebooks. It's a collection of columns containing data similar to a table and very helpful in analyzing tabular data. It works flawlessly without creating types/classes mapped to columns in a table which we used to do with ML.Net. It has support for GroupBy, Sort, Filter which makes analysis very handy. It's a in-memory representation of structured data.\n",
    "\n",
    "For overview, please refer below links\n",
    "- [An Introduction to DataFrame](https://devblogs.microsoft.com/dotnet/an-introduction-to-dataframe/)\n",
    "- [Exploring the C# Dataframe API](https://www.youtube.com/watch?v=FI3VxXClJ7Y) by Jon Wood"
   ]
  },
  {
   "cell_type": "markdown",
   "metadata": {},
   "source": [
    "### Summary\n",
    "\n",
    "Below is the summary of steps we'll be performing\n",
    "\n",
    "1. Define application level items\n",
    "    - Nuget packages\n",
    "    - Namespaces\n",
    "    - Constants\n",
    "     \n",
    "2. Utility Functions\n",
    "    - Formatters    \n",
    "\n",
    "3. Load Dataset\n",
    "    - Download Dataset from [Johns Hopkins CSSE](https://github.com/CSSEGISandData/COVID-19/raw/master/csse_covid_19_data)\n",
    "    - Load dataset in DataFrame\n",
    "    \n",
    "4. Analyse Data\n",
    "    - Date Range\n",
    "    - Display Datset - display(dataframe)\n",
    "    - Display Top 5 Rows - dataframe.Head(5)\n",
    "    - Display Random 6 Rows - dataframe.Sample(6)    \n",
    "    - Display Dataset Statistics - dataframe.Description()\n",
    "    - Display Dataset type information - dataframe.Info()\n",
    "\n",
    "5. Data Cleaning\n",
    "    - Remove Invalid cases\n",
    "\n",
    "6. Data Visualization\n",
    "    - Global\n",
    "        - Confirmed Vs Deaths Vs Recovered\n",
    "        - Top 5 Countries with Confirmed cases\n",
    "        - Top 5 Countries with Death cases\n",
    "        - Top 5 Countries with Recovered cases\n",
    "        - Number of Confirmed cases over Time\n",
    "        - Number of Deaths over Time\n",
    "        - Number of Recovered cases over Time\n",
    "    - India\n",
    "        - Confirmed Vs Deaths Vs Recovered\n",
    "        \n",
    "**Note** : Graphs/Plots may not render in GitHub due to secutiry reasons, however if you run this notebook locally/binder they will render."
   ]
  },
  {
   "cell_type": "markdown",
   "metadata": {},
   "source": [
    "### 1. Define Application wide Items"
   ]
  },
  {
   "cell_type": "markdown",
   "metadata": {},
   "source": [
    "#### Nuget Packages\n"
   ]
  },
  {
   "cell_type": "code",
   "execution_count": 1,
   "metadata": {},
   "outputs": [
    {
     "data": {
      "text/html": [
       "Installing package Microsoft.ML.................................done!"
      ]
     },
     "metadata": {},
     "output_type": "display_data"
    },
    {
     "data": {
      "text/html": [
       "Successfully added reference to package Microsoft.ML, version 1.4.0"
      ]
     },
     "metadata": {},
     "output_type": "display_data"
    },
    {
     "data": {
      "text/html": [
       "Installing package Microsoft.Data.Analysis..........done!"
      ]
     },
     "metadata": {},
     "output_type": "display_data"
    },
    {
     "data": {
      "text/html": [
       "Successfully added reference to package Microsoft.Data.Analysis, version 0.3.0"
      ]
     },
     "metadata": {},
     "output_type": "display_data"
    },
    {
     "data": {
      "text/html": [
       "Installing package XPlot.Plotly...........done!"
      ]
     },
     "metadata": {},
     "output_type": "display_data"
    },
    {
     "data": {
      "text/html": [
       "Successfully added reference to package XPlot.Plotly, version 3.0.1"
      ]
     },
     "metadata": {},
     "output_type": "display_data"
    },
    {
     "data": {
      "text/html": [
       "Installing package CsvHelper..........done!"
      ]
     },
     "metadata": {},
     "output_type": "display_data"
    },
    {
     "data": {
      "text/html": [
       "Successfully added reference to package CsvHelper, version 15.0.4"
      ]
     },
     "metadata": {},
     "output_type": "display_data"
    }
   ],
   "source": [
    "// ML.NET Nuget packages installation\n",
    "#r \"nuget:Microsoft.ML\"\n",
    "#r \"nuget:Microsoft.Data.Analysis\"\n",
    "\n",
    "// Install XPlot package\n",
    "#r \"nuget:XPlot.Plotly\"\n",
    "    \n",
    "// CSV Helper Package for reading CSV\n",
    "#r \"nuget:CsvHelper\""
   ]
  },
  {
   "cell_type": "markdown",
   "metadata": {},
   "source": [
    "#### Namespaces"
   ]
  },
  {
   "cell_type": "code",
   "execution_count": 2,
   "metadata": {},
   "outputs": [],
   "source": [
    "using Microsoft.ML;\n",
    "using Microsoft.ML.Data;\n",
    "using Microsoft.Data.Analysis;\n",
    "using Microsoft.AspNetCore.Html;\n",
    "using System.IO;\n",
    "using System.Net.Http;\n",
    "using System.Globalization;\n",
    "using CsvHelper;\n",
    "using CsvHelper.Configuration;\n",
    "using XPlot.Plotly;"
   ]
  },
  {
   "cell_type": "markdown",
   "metadata": {},
   "source": [
    "#### Constants"
   ]
  },
  {
   "cell_type": "code",
   "execution_count": 3,
   "metadata": {},
   "outputs": [],
   "source": [
    "// Column Names\n",
    "const string FIPS = \"FIPS\";\n",
    "const string ADMIN = \"Admin2\";\n",
    "const string STATE = \"Province_State\";\n",
    "const string COUNTRY = \"Country_Region\";\n",
    "const string LAST_UPDATE = \"Last_Update\";\n",
    "const string LATITUDE = \"Lat\";\n",
    "const string LONGITUDE = \"Long_\";\n",
    "const string CONFIRMED = \"Confirmed\";\n",
    "const string DEATHS = \"Deaths\";\n",
    "const string RECOVERED = \"Recovered\";\n",
    "const string ACTIVE = \"Active\";\n",
    "const string COMBINED_KEY = \"Combined_Key\";\n",
    "\n",
    "// File\n",
    "const string DATASET_FILE = \"04-01-2020\";\n",
    "const string FILE_EXTENSION = \".csv\";\n",
    "const string NEW_FILE_SUFFIX = \"_new\";\n",
    "const char SEPARATOR = ',';\n",
    "const char SEPARATOR_REPLACEMENT = '_';\n",
    "const string DATASET_GITHUB_DIRECTORY = \"https://raw.githubusercontent.com/CSSEGISandData/COVID-19/master/csse_covid_19_data/csse_covid_19_daily_reports/\";\n",
    "\n",
    "// DataFrame/Table\n",
    "const int TOP_COUNT = 5;\n",
    "const int DEFAULT_ROW_COUNT = 10;\n",
    "const string VALUES = \"Values\";\n",
    "const string INDIA = \"India\";"
   ]
  },
  {
   "cell_type": "markdown",
   "metadata": {},
   "source": [
    "### 2. Utility Functions"
   ]
  },
  {
   "cell_type": "markdown",
   "metadata": {},
   "source": [
    "#### Formatters\n",
    "\n",
    "By default the output of DataFrame is not proper and in order to display it as a table, we need to have a custom formatter implemented as shown in next cell. "
   ]
  },
  {
   "cell_type": "code",
   "execution_count": 4,
   "metadata": {},
   "outputs": [],
   "source": [
    "Formatter<DataFrame>.Register((df, writer) =>\n",
    "{\n",
    "    var headers = new List<IHtmlContent>();\n",
    "    headers.Add(th(i(\"index\")));\n",
    "    headers.AddRange(df.Columns.Select(c => (IHtmlContent) th(c.Name)));\n",
    "    var rows = new List<List<IHtmlContent>>();\n",
    "    var take = DEFAULT_ROW_COUNT;\n",
    "    for (var i = 0; i < Math.Min(take, df.Rows.Count); i++)\n",
    "    {\n",
    "        var cells = new List<IHtmlContent>();\n",
    "        cells.Add(td(i));\n",
    "        foreach (var obj in df.Rows[i])\n",
    "        {\n",
    "            cells.Add(td(obj));\n",
    "        }\n",
    "        rows.Add(cells);\n",
    "    }\n",
    "\n",
    "    var t = table(\n",
    "        thead(\n",
    "            headers),\n",
    "        tbody(\n",
    "            rows.Select(\n",
    "                r => tr(r))));\n",
    "\n",
    "    writer.Write(t);\n",
    "}, \"text/html\");"
   ]
  },
  {
   "cell_type": "markdown",
   "metadata": {},
   "source": [
    "#### Copy dataset csv and replace Separator in cells"
   ]
  },
  {
   "cell_type": "code",
   "execution_count": 5,
   "metadata": {},
   "outputs": [],
   "source": [
    "private void CreateCsvAndReplaceSeparatorInCells(string inputFile, string outputFile, char separator, char separatorReplacement)\n",
    "{\n",
    "    var culture = CultureInfo.InvariantCulture;\n",
    "    using var reader = new StreamReader(inputFile);\n",
    "    using var csvIn = new CsvReader(reader, new CsvConfiguration(culture));\n",
    "    using var recordsIn = new CsvDataReader(csvIn);\n",
    "    using var writer = new StreamWriter(outputFile);\n",
    "    using var outCsv = new CsvWriter(writer, culture);\n",
    "\n",
    "    // Write Header\n",
    "    csvIn.ReadHeader();\n",
    "    var headers = csvIn.Context.HeaderRecord;\n",
    "    foreach (var header in headers)\n",
    "    {\n",
    "        outCsv.WriteField(header.Replace(separator, separatorReplacement));\n",
    "    }\n",
    "    outCsv.NextRecord();\n",
    "\n",
    "    // Write rows\n",
    "    while (recordsIn.Read())\n",
    "    {\n",
    "        var columns = recordsIn.FieldCount;\n",
    "        for (var index = 0; index < columns; index++)\n",
    "        {\n",
    "            var cellValue = recordsIn.GetString(index);\n",
    "            outCsv.WriteField(cellValue.Replace(separator, separatorReplacement));\n",
    "        }\n",
    "        outCsv.NextRecord();\n",
    "    }\n",
    "}"
   ]
  },
  {
   "cell_type": "markdown",
   "metadata": {},
   "source": [
    "### 3. Load Dataset"
   ]
  },
  {
   "cell_type": "markdown",
   "metadata": {},
   "source": [
    "#### Download Dataset from [Johns Hopkins CSSE](https://github.com/CSSEGISandData/COVID-19/raw/master/csse_covid_19_data)\n",
    "\n",
    "We'll be using COVID-19 dataset from [Johns Hopkins CSSE](https://github.com/CSSEGISandData/COVID-19/raw/master/csse_covid_19_data). The **csse_covid_19_data directory** has .csv file for each day and we'll be performing analysis on latest file present. Latest file present at the time of last modification of this notebook was **04-01-2020.csv**. If you wish to use a different file, update **DATASET_FILE** constant in Constants cell above.\n",
    "\n",
    "We'll download file to current directory."
   ]
  },
  {
   "cell_type": "code",
   "execution_count": 6,
   "metadata": {},
   "outputs": [
    {
     "data": {
      "text/plain": [
       "https://raw.githubusercontent.com/CSSEGISandData/COVID-19/master/csse_covid_19_data/csse_covid_19_daily_reports//04-01-2020.csv"
      ]
     },
     "metadata": {},
     "output_type": "display_data"
    }
   ],
   "source": [
    "var originalFileName = $\"{DATASET_FILE}{FILE_EXTENSION}\";\n",
    "if (!File.Exists(originalFileName))\n",
    "{\n",
    "    var remoteFilePath = $\"{DATASET_GITHUB_DIRECTORY}/{originalFileName}\";\n",
    "    display(remoteFilePath);\n",
    "    var contents = new HttpClient()\n",
    "        .GetStringAsync(remoteFilePath).Result;\n",
    "        \n",
    "    File.WriteAllText(originalFileName, contents);\n",
    "}"
   ]
  },
  {
   "cell_type": "markdown",
   "metadata": {},
   "source": [
    "#### Load dataset in DataFrame\n",
    "\n",
    "**Issue**: We can load csv using LoadCsv(..) method of DataFrame. However, there is an [issue](https://github.com/dotnet/corefxlab/issues/2787) of not allowing quotes and separator(comma in this case) in a cell value. \n",
    "The dataset, we are using has both of them and LoadCsv fails for it. \n",
    "As a workaround, we'll use CSVHelper to read the csv file and replace command separator with underscore, save the file and use it to load in DataFrame LoadCsv(..) method."
   ]
  },
  {
   "cell_type": "code",
   "execution_count": 7,
   "metadata": {},
   "outputs": [
    {
     "data": {
      "text/plain": [
       "04-01-2020_new.csv"
      ]
     },
     "metadata": {},
     "output_type": "display_data"
    }
   ],
   "source": [
    "// Load and create a copy of dataset file\n",
    "var newFileName = $\"{DATASET_FILE}{NEW_FILE_SUFFIX}{FILE_EXTENSION}\";\n",
    "display(newFileName);\n",
    "CreateCsvAndReplaceSeparatorInCells(originalFileName, newFileName, SEPARATOR, SEPARATOR_REPLACEMENT);"
   ]
  },
  {
   "cell_type": "code",
   "execution_count": 8,
   "metadata": {},
   "outputs": [],
   "source": [
    "var covid19Dataframe = DataFrame.LoadCsv(newFileName);"
   ]
  },
  {
   "cell_type": "markdown",
   "metadata": {},
   "source": [
    "### 4. Data Analysis\n",
    "\n",
    "Data analysis is a critical activity in the field of Data science. It provides ways to uncover the hidden attributes of a dataset which can't be analyzed or predicted by simply looking at the data source. DataFrame makes the analysis simple by providing great API's such as GroupBy, Sort, Filter etc. Jupyter notebook is great tool for this kind of activity which maintains values of variables executed in a cell and providing it to other cells."
   ]
  },
  {
   "cell_type": "markdown",
   "metadata": {},
   "source": [
    "##### Finding the range in the records in Dataset\n",
    "\n",
    "In DataFrame, Columns property allows access to values within a column by specifying column name. we'll use Last_Update column to get the date and sort it to get the start and end date"
   ]
  },
  {
   "cell_type": "code",
   "execution_count": 9,
   "metadata": {},
   "outputs": [
    {
     "data": {
      "text/html": [
       "<h4>The data is between 2/23/2020 and 4/1/2020</h4>"
      ]
     },
     "metadata": {},
     "output_type": "display_data"
    }
   ],
   "source": [
    "var dateRangeDataFrame = covid19Dataframe.Columns[LAST_UPDATE].ValueCounts();\n",
    "var dataRange = dateRangeDataFrame.Columns[VALUES].Sort();\n",
    "var lastElementIndex = dataRange.Length - 1;\n",
    "\n",
    "var startDate = DateTime.Parse(dataRange[0].ToString()).ToShortDateString();\n",
    "var endDate  = DateTime.Parse(dataRange[lastElementIndex].ToString()).ToShortDateString(); // Last Element\n",
    "\n",
    "display(h4($\"The data is between {startDate} and {endDate}\"));"
   ]
  },
  {
   "cell_type": "markdown",
   "metadata": {},
   "source": [
    "##### Display 10 records\n",
    "\n",
    "Here we have 12 columns which includes Country, State, Confirmed, Deaths, Recovered and Active cases"
   ]
  },
  {
   "cell_type": "code",
   "execution_count": 10,
   "metadata": {},
   "outputs": [
    {
     "data": {
      "text/html": [
       "<table><thead><th><i>index</i></th><th>FIPS</th><th>Admin2</th><th>Province_State</th><th>Country_Region</th><th>Last_Update</th><th>Lat</th><th>Long_</th><th>Confirmed</th><th>Deaths</th><th>Recovered</th><th>Active</th><th>Combined_Key</th></thead><tbody><tr><td>0</td><td>45001</td><td>Abbeville</td><td>South Carolina</td><td>US</td><td>2020-04-01 21:58:49</td><td>34.223335</td><td>-82.46171</td><td>4</td><td>0</td><td>0</td><td>0</td><td>Abbeville_ South Carolina_ US</td></tr><tr><td>1</td><td>22001</td><td>Acadia</td><td>Louisiana</td><td>US</td><td>2020-04-01 21:58:49</td><td>30.295065</td><td>-92.4142</td><td>47</td><td>1</td><td>0</td><td>0</td><td>Acadia_ Louisiana_ US</td></tr><tr><td>2</td><td>51001</td><td>Accomack</td><td>Virginia</td><td>US</td><td>2020-04-01 21:58:49</td><td>37.76707</td><td>-75.63235</td><td>7</td><td>0</td><td>0</td><td>0</td><td>Accomack_ Virginia_ US</td></tr><tr><td>3</td><td>16001</td><td>Ada</td><td>Idaho</td><td>US</td><td>2020-04-01 21:58:49</td><td>43.452656</td><td>-116.241554</td><td>195</td><td>3</td><td>0</td><td>0</td><td>Ada_ Idaho_ US</td></tr><tr><td>4</td><td>19001</td><td>Adair</td><td>Iowa</td><td>US</td><td>2020-04-01 21:58:49</td><td>41.330757</td><td>-94.47106</td><td>1</td><td>0</td><td>0</td><td>0</td><td>Adair_ Iowa_ US</td></tr><tr><td>5</td><td>29001</td><td>Adair</td><td>Missouri</td><td>US</td><td>2020-04-01 21:58:49</td><td>40.190586</td><td>-92.600784</td><td>3</td><td>0</td><td>0</td><td>0</td><td>Adair_ Missouri_ US</td></tr><tr><td>6</td><td>40001</td><td>Adair</td><td>Oklahoma</td><td>US</td><td>2020-04-01 21:58:49</td><td>35.88494</td><td>-94.65859</td><td>8</td><td>0</td><td>0</td><td>0</td><td>Adair_ Oklahoma_ US</td></tr><tr><td>7</td><td>8001</td><td>Adams</td><td>Colorado</td><td>US</td><td>2020-04-01 21:58:49</td><td>39.87432</td><td>-104.33626</td><td>181</td><td>2</td><td>0</td><td>0</td><td>Adams_ Colorado_ US</td></tr><tr><td>8</td><td>17001</td><td>Adams</td><td>Illinois</td><td>US</td><td>2020-04-01 21:58:49</td><td>39.988155</td><td>-91.18787</td><td>2</td><td>0</td><td>0</td><td>0</td><td>Adams_ Illinois_ US</td></tr><tr><td>9</td><td>18001</td><td>Adams</td><td>Indiana</td><td>US</td><td>2020-04-01 21:58:49</td><td>40.745766</td><td>-84.936714</td><td>1</td><td>0</td><td>0</td><td>0</td><td>Adams_ Indiana_ US</td></tr></tbody></table>"
      ]
     },
     "metadata": {},
     "output_type": "display_data"
    }
   ],
   "source": [
    "display(covid19Dataframe)"
   ]
  },
  {
   "cell_type": "markdown",
   "metadata": {},
   "source": [
    "##### Display Top 5 records"
   ]
  },
  {
   "cell_type": "code",
   "execution_count": 11,
   "metadata": {},
   "outputs": [
    {
     "data": {
      "text/html": [
       "<table><thead><th><i>index</i></th><th>FIPS</th><th>Admin2</th><th>Province_State</th><th>Country_Region</th><th>Last_Update</th><th>Lat</th><th>Long_</th><th>Confirmed</th><th>Deaths</th><th>Recovered</th><th>Active</th><th>Combined_Key</th></thead><tbody><tr><td>0</td><td>45001</td><td>Abbeville</td><td>South Carolina</td><td>US</td><td>2020-04-01 21:58:49</td><td>34.223335</td><td>-82.46171</td><td>4</td><td>0</td><td>0</td><td>0</td><td>Abbeville_ South Carolina_ US</td></tr><tr><td>1</td><td>22001</td><td>Acadia</td><td>Louisiana</td><td>US</td><td>2020-04-01 21:58:49</td><td>30.295065</td><td>-92.4142</td><td>47</td><td>1</td><td>0</td><td>0</td><td>Acadia_ Louisiana_ US</td></tr><tr><td>2</td><td>51001</td><td>Accomack</td><td>Virginia</td><td>US</td><td>2020-04-01 21:58:49</td><td>37.76707</td><td>-75.63235</td><td>7</td><td>0</td><td>0</td><td>0</td><td>Accomack_ Virginia_ US</td></tr><tr><td>3</td><td>16001</td><td>Ada</td><td>Idaho</td><td>US</td><td>2020-04-01 21:58:49</td><td>43.452656</td><td>-116.241554</td><td>195</td><td>3</td><td>0</td><td>0</td><td>Ada_ Idaho_ US</td></tr><tr><td>4</td><td>19001</td><td>Adair</td><td>Iowa</td><td>US</td><td>2020-04-01 21:58:49</td><td>41.330757</td><td>-94.47106</td><td>1</td><td>0</td><td>0</td><td>0</td><td>Adair_ Iowa_ US</td></tr></tbody></table>"
      ]
     },
     "execution_count": 11,
     "metadata": {},
     "output_type": "execute_result"
    }
   ],
   "source": [
    "covid19Dataframe.Head(5)"
   ]
  },
  {
   "cell_type": "markdown",
   "metadata": {},
   "source": [
    "##### Display Random 6 records"
   ]
  },
  {
   "cell_type": "code",
   "execution_count": 12,
   "metadata": {},
   "outputs": [
    {
     "data": {
      "text/html": [
       "<table><thead><th><i>index</i></th><th>FIPS</th><th>Admin2</th><th>Province_State</th><th>Country_Region</th><th>Last_Update</th><th>Lat</th><th>Long_</th><th>Confirmed</th><th>Deaths</th><th>Recovered</th><th>Active</th><th>Combined_Key</th></thead><tbody><tr><td>0</td><td>&lt;null&gt;</td><td></td><td></td><td>Bhutan</td><td>2020-04-01 21:58:34</td><td>27.5142</td><td>90.4336</td><td>4</td><td>0</td><td>0</td><td>4</td><td>Bhutan</td></tr><tr><td>1</td><td>55003</td><td>Ashland</td><td>Wisconsin</td><td>US</td><td>2020-04-01 21:58:49</td><td>46.31957</td><td>-90.67837</td><td>1</td><td>0</td><td>0</td><td>0</td><td>Ashland_ Wisconsin_ US</td></tr><tr><td>2</td><td>34007</td><td>Camden</td><td>New Jersey</td><td>US</td><td>2020-04-01 21:58:49</td><td>39.803436</td><td>-74.96389</td><td>289</td><td>3</td><td>0</td><td>0</td><td>Camden_ New Jersey_ US</td></tr><tr><td>3</td><td>46057</td><td>Hamlin</td><td>South Dakota</td><td>US</td><td>2020-04-01 21:58:49</td><td>44.67386</td><td>-97.18829</td><td>1</td><td>0</td><td>0</td><td>0</td><td>Hamlin_ South Dakota_ US</td></tr><tr><td>4</td><td>&lt;null&gt;</td><td></td><td>Puerto Rico</td><td>US</td><td>2020-04-01 21:58:49</td><td>18.2208</td><td>-66.5901</td><td>286</td><td>11</td><td>0</td><td>0</td><td>Puerto Rico_ US</td></tr><tr><td>5</td><td>45053</td><td>Jasper</td><td>South Carolina</td><td>US</td><td>2020-04-01 21:58:49</td><td>32.43172</td><td>-81.02487</td><td>4</td><td>0</td><td>0</td><td>0</td><td>Jasper_ South Carolina_ US</td></tr></tbody></table>"
      ]
     },
     "execution_count": 12,
     "metadata": {},
     "output_type": "execute_result"
    }
   ],
   "source": [
    "covid19Dataframe.Sample(6)"
   ]
  },
  {
   "cell_type": "markdown",
   "metadata": {},
   "source": [
    "##### Display Dataset Statistics such as Total, Max, Min, Mean of items in a column"
   ]
  },
  {
   "cell_type": "code",
   "execution_count": 13,
   "metadata": {},
   "outputs": [
    {
     "data": {
      "text/html": [
       "<table><thead><th><i>index</i></th><th>Description</th><th>FIPS</th><th>Lat</th><th>Long_</th><th>Confirmed</th><th>Deaths</th><th>Recovered</th><th>Active</th></thead><tbody><tr><td>0</td><td>Length (excluding null values)</td><td>2171</td><td>2484</td><td>2484</td><td>2485</td><td>2485</td><td>2485</td><td>2485</td></tr><tr><td>1</td><td>Max</td><td>99999</td><td>71.7069</td><td>178.065</td><td>110574</td><td>13155</td><td>63326</td><td>80572</td></tr><tr><td>2</td><td>Min</td><td>0</td><td>-42.8821</td><td>-159.59668</td><td>0</td><td>0</td><td>0</td><td>-6</td></tr><tr><td>3</td><td>Mean</td><td>26224.918</td><td>35.639614</td><td>-77.22377</td><td>375.29376</td><td>18.83662</td><td>77.73722</td><td>194.90987</td></tr></tbody></table>"
      ]
     },
     "execution_count": 13,
     "metadata": {},
     "output_type": "execute_result"
    }
   ],
   "source": [
    "covid19Dataframe.Description()"
   ]
  },
  {
   "cell_type": "markdown",
   "metadata": {},
   "source": [
    "##### Display Dataset type information for each column"
   ]
  },
  {
   "cell_type": "code",
   "execution_count": 14,
   "metadata": {},
   "outputs": [
    {
     "data": {
      "text/html": [
       "<table><thead><th><i>index</i></th><th>Info</th><th>FIPS</th><th>Admin2</th><th>Province_State</th><th>Country_Region</th><th>Last_Update</th><th>Lat</th><th>Long_</th><th>Confirmed</th><th>Deaths</th><th>Recovered</th><th>Active</th><th>Combined_Key</th></thead><tbody><tr><td>0</td><td>DataType</td><td>System.Single</td><td>System.String</td><td>System.String</td><td>System.String</td><td>System.String</td><td>System.Single</td><td>System.Single</td><td>System.Single</td><td>System.Single</td><td>System.Single</td><td>System.Single</td><td>System.String</td></tr><tr><td>1</td><td>Length (excluding null values)</td><td>2171</td><td>2485</td><td>2485</td><td>2485</td><td>2485</td><td>2484</td><td>2484</td><td>2485</td><td>2485</td><td>2485</td><td>2485</td><td>2485</td></tr></tbody></table>"
      ]
     },
     "execution_count": 14,
     "metadata": {},
     "output_type": "execute_result"
    }
   ],
   "source": [
    "covid19Dataframe.Info()"
   ]
  },
  {
   "cell_type": "markdown",
   "metadata": {},
   "source": [
    "### 5. Data Cleaning\n",
    "\n",
    "Data Cleaning is another important activity in which remove the irrelevant data present in our dataset. This irrelevant data can be due missing values, invalid values or an outlier. The columns with less significance is removed for better analysis and prediction of our data. In order to keep this notebook simple, we'll use one of the techniques to remove invalid data. In this we are going to remove invalid Active cases such as the ones having negative values. We could use DataFrame API's such as DropNull to remove rows with null values, FillNull to fill null values with other such as mean, average. We can transform DataFrame and remove some of the unnecessary columns."
   ]
  },
  {
   "cell_type": "markdown",
   "metadata": {},
   "source": [
    "#### Remove invalid Active cases\n",
    "\n",
    "In order to check for invalid active cases, we'll use DataFrame Filter to retrive active column values whose value is less than 0.0"
   ]
  },
  {
   "cell_type": "code",
   "execution_count": 15,
   "metadata": {},
   "outputs": [
    {
     "data": {
      "text/html": [
       "<table><thead><th><i>index</i></th><th>FIPS</th><th>Admin2</th><th>Province_State</th><th>Country_Region</th><th>Last_Update</th><th>Lat</th><th>Long_</th><th>Confirmed</th><th>Deaths</th><th>Recovered</th><th>Active</th><th>Combined_Key</th></thead><tbody><tr><td>0</td><td>&lt;null&gt;</td><td></td><td>Hainan</td><td>China</td><td>2020-03-24 04:29:15</td><td>19.1959</td><td>109.7453</td><td>168</td><td>6</td><td>168</td><td>-6</td><td>Hainan_ China</td></tr></tbody></table>"
      ]
     },
     "metadata": {},
     "output_type": "display_data"
    }
   ],
   "source": [
    "PrimitiveDataFrameColumn<bool> invalidActiveFilter = covid19Dataframe.Columns[ACTIVE].ElementwiseLessThan(0.0);\n",
    "var invalidActiveDataFrame = covid19Dataframe.Filter(invalidActiveFilter);\n",
    "display(invalidActiveDataFrame)"
   ]
  },
  {
   "cell_type": "markdown",
   "metadata": {},
   "source": [
    "**From above table, we could see some there were 168 confirmed and recovered cases with 6 deaths which seems invalid.**\n",
    "In order to remove it, we'll apply a filter to DataFrame to get active values greater than or equal to 0.0. Let's remove it in next step"
   ]
  },
  {
   "cell_type": "code",
   "execution_count": 16,
   "metadata": {},
   "outputs": [
    {
     "data": {
      "text/html": [
       "<table><thead><th><i>index</i></th><th>Description</th><th>FIPS</th><th>Lat</th><th>Long_</th><th>Confirmed</th><th>Deaths</th><th>Recovered</th><th>Active</th></thead><tbody><tr><td>0</td><td>Length (excluding null values)</td><td>2171</td><td>2483</td><td>2483</td><td>2484</td><td>2484</td><td>2484</td><td>2484</td></tr><tr><td>1</td><td>Max</td><td>99999</td><td>71.7069</td><td>178.065</td><td>110574</td><td>13155</td><td>63326</td><td>80572</td></tr><tr><td>2</td><td>Min</td><td>0</td><td>-42.8821</td><td>-159.59668</td><td>0</td><td>0</td><td>0</td><td>0</td></tr><tr><td>3</td><td>Mean</td><td>26235.475</td><td>35.646233</td><td>-77.29904</td><td>375.37723</td><td>18.841787</td><td>77.70088</td><td>194.99074</td></tr></tbody></table>"
      ]
     },
     "metadata": {},
     "output_type": "display_data"
    }
   ],
   "source": [
    "PrimitiveDataFrameColumn<bool> activeFilter = covid19Dataframe.Columns[ACTIVE].ElementwiseGreaterThanOrEqual(0.0);\n",
    "covid19Dataframe = covid19Dataframe.Filter(activeFilter);\n",
    "display(covid19Dataframe.Description());"
   ]
  },
  {
   "cell_type": "markdown",
   "metadata": {},
   "source": [
    "**We have removed cases with negative active value, same can be seem in above table with minimum value for Active cases as zero**"
   ]
  },
  {
   "cell_type": "markdown",
   "metadata": {},
   "source": [
    "### 6. Visualization\n",
    "\n",
    "Visualization of data helps business owners make better decisions. The DataFrame maintains data in a tabular format. In order to prepare data for different plots, we have used DataFrame features such as Sum, GroupBy, OrderBy, OrderByDescending etc. For visualization, we have used open source library called as [XPlot.Plotly](https://fslab.org/XPlot/plotly.html). Different plots have been used such as Bar, Pie and Line/Scatter Graph. "
   ]
  },
  {
   "cell_type": "markdown",
   "metadata": {},
   "source": [
    "#### Global"
   ]
  },
  {
   "cell_type": "markdown",
   "metadata": {},
   "source": [
    "##### Collect Data"
   ]
  },
  {
   "cell_type": "code",
   "execution_count": 17,
   "metadata": {},
   "outputs": [],
   "source": [
    "var confirmed = covid19Dataframe.Columns[CONFIRMED];\n",
    "var deaths = covid19Dataframe.Columns[DEATHS];\n",
    "var recovered = covid19Dataframe.Columns[RECOVERED];\n",
    "\n",
    "var totalConfirmed = Convert.ToDouble(confirmed.Sum());\n",
    "var totalDeaths = Convert.ToDouble(deaths.Sum());\n",
    "var totaRecovered = Convert.ToDouble(recovered.Sum());"
   ]
  },
  {
   "cell_type": "markdown",
   "metadata": {},
   "source": [
    "##### Confirmed Vs Deaths Vs Receovered cases"
   ]
  },
  {
   "cell_type": "code",
   "execution_count": 18,
   "metadata": {},
   "outputs": [
    {
     "data": {
      "text/html": [
       "<div id=\"306021dd-4f26-4d8f-97a3-edb2cdfc5c4c\" style=\"width: 900px; height: 500px;\"></div><script type=\"text/javascript\">\r\n",
       "\r\n",
       "var renderPlotly = function() {\r\n",
       "    var xplotRequire = requirejs.config({context:'xplot-2.0.0',paths:{plotly:'https://cdn.plot.ly/plotly-1.49.2.min'}});\r\n",
       "    xplotRequire(['plotly'], function(Plotly) {\r\n",
       "\n",
       "            var data = [{\"type\":\"pie\",\"labels\":[\"Confirmed\",\"Deaths\",\"Recovered\"],\"values\":[932437.0,46803.0,193009.0]}];\n",
       "            var layout = \"\";\n",
       "            Plotly.newPlot('306021dd-4f26-4d8f-97a3-edb2cdfc5c4c', data, layout);\n",
       "        });\r\n",
       "};\r\n",
       "if ((typeof(requirejs) !==  typeof(Function)) || (typeof(requirejs.config) !== typeof(Function))) { \r\n",
       "    var script = document.createElement(\"script\"); \r\n",
       "    script.setAttribute(\"src\", \"https://cdnjs.cloudflare.com/ajax/libs/require.js/2.3.6/require.min.js\"); \r\n",
       "    script.onload = function(){\r\n",
       "        renderPlotly();\r\n",
       "    };\r\n",
       "    document.getElementsByTagName(\"head\")[0].appendChild(script); \r\n",
       "}\r\n",
       "else {\r\n",
       "    renderPlotly();\r\n",
       "}\r\n",
       "</script>"
      ]
     },
     "metadata": {},
     "output_type": "display_data"
    }
   ],
   "source": [
    "display(Chart.Plot(\n",
    "    new Graph.Pie()\n",
    "    {\n",
    "        values = new double[]{totalConfirmed, totalDeaths, totaRecovered},\n",
    "        labels = new string[] {CONFIRMED, DEATHS, RECOVERED}\n",
    "    }\n",
    "));"
   ]
  },
  {
   "cell_type": "markdown",
   "metadata": {},
   "source": [
    "##### Top 5 Countries with Confirmed cases"
   ]
  },
  {
   "cell_type": "code",
   "execution_count": 19,
   "metadata": {},
   "outputs": [],
   "source": [
    "// Get the data\n",
    "var countryConfirmedGroup = covid19Dataframe.GroupBy(COUNTRY).Sum(CONFIRMED).OrderByDescending(CONFIRMED);\n",
    "var topCountriesColumn = countryConfirmedGroup.Columns[COUNTRY];\n",
    "var topConfirmedCasesByCountry = countryConfirmedGroup.Columns[CONFIRMED];\n",
    "\n",
    "HashSet<string> countries = new HashSet<string>(TOP_COUNT);\n",
    "HashSet<long> confirmedCases = new HashSet<long>(TOP_COUNT);\n",
    "for(int index = 0; index < TOP_COUNT; index++)\n",
    "{\n",
    "    countries.Add(topCountriesColumn[index].ToString());\n",
    "    confirmedCases.Add(Convert.ToInt64(topConfirmedCasesByCountry[index]));\n",
    "}"
   ]
  },
  {
   "cell_type": "code",
   "execution_count": 20,
   "metadata": {},
   "outputs": [
    {
     "data": {
      "text/html": [
       "<div id=\"d1d29133-5ecf-4e1c-8ca9-36606a9fd65b\" style=\"width: 900px; height: 500px;\"></div><script type=\"text/javascript\">\r\n",
       "\r\n",
       "var renderPlotly = function() {\r\n",
       "    var xplotRequire = requirejs.config({context:'xplot-2.0.0',paths:{plotly:'https://cdn.plot.ly/plotly-1.49.2.min'}});\r\n",
       "    xplotRequire(['plotly'], function(Plotly) {\r\n",
       "\n",
       "            var data = [{\"type\":\"bar\",\"x\":[\"US\",\"Italy\",\"Spain\",\"China\",\"Germany\"],\"y\":[213372,110574,104118,82193,77872]}];\n",
       "            var layout = {\"title\":\"Top 5 Countries : Confirmed\"};\n",
       "            Plotly.newPlot('d1d29133-5ecf-4e1c-8ca9-36606a9fd65b', data, layout);\n",
       "        });\r\n",
       "};\r\n",
       "if ((typeof(requirejs) !==  typeof(Function)) || (typeof(requirejs.config) !== typeof(Function))) { \r\n",
       "    var script = document.createElement(\"script\"); \r\n",
       "    script.setAttribute(\"src\", \"https://cdnjs.cloudflare.com/ajax/libs/require.js/2.3.6/require.min.js\"); \r\n",
       "    script.onload = function(){\r\n",
       "        renderPlotly();\r\n",
       "    };\r\n",
       "    document.getElementsByTagName(\"head\")[0].appendChild(script); \r\n",
       "}\r\n",
       "else {\r\n",
       "    renderPlotly();\r\n",
       "}\r\n",
       "</script>"
      ]
     },
     "metadata": {},
     "output_type": "display_data"
    }
   ],
   "source": [
    "var title = \"Top 5 Countries : Confirmed\";\n",
    "var series1 = new Graph.Bar{\n",
    "        x = countries.ToArray(),\n",
    "        y = confirmedCases.ToArray()\n",
    "    };\n",
    "\n",
    "var chart = Chart.Plot(new []{series1});\n",
    "chart.WithTitle(title);\n",
    "display(chart);"
   ]
  },
  {
   "cell_type": "markdown",
   "metadata": {},
   "source": [
    "##### Top 5 Countries with Deaths"
   ]
  },
  {
   "cell_type": "code",
   "execution_count": 21,
   "metadata": {},
   "outputs": [],
   "source": [
    "// Get the data\n",
    "var countryDeathsGroup = covid19Dataframe.GroupBy(COUNTRY).Sum(DEATHS).OrderByDescending(DEATHS);\n",
    "var topCountriesColumn = countryDeathsGroup.Columns[COUNTRY];\n",
    "var topDeathCasesByCountry = countryDeathsGroup.Columns[DEATHS];\n",
    "\n",
    "HashSet<string> countries = new HashSet<string>(TOP_COUNT);\n",
    "HashSet<long> deathCases = new HashSet<long>(TOP_COUNT);\n",
    "for(int index = 0; index < TOP_COUNT; index++)\n",
    "{\n",
    "    countries.Add(topCountriesColumn[index].ToString());\n",
    "    deathCases.Add(Convert.ToInt64(topDeathCasesByCountry[index]));\n",
    "}"
   ]
  },
  {
   "cell_type": "code",
   "execution_count": 22,
   "metadata": {},
   "outputs": [
    {
     "data": {
      "text/html": [
       "<div id=\"2f1719cf-a8f9-4e23-bd52-d3a37894d8e6\" style=\"width: 900px; height: 500px;\"></div><script type=\"text/javascript\">\r\n",
       "\r\n",
       "var renderPlotly = function() {\r\n",
       "    var xplotRequire = requirejs.config({context:'xplot-2.0.0',paths:{plotly:'https://cdn.plot.ly/plotly-1.49.2.min'}});\r\n",
       "    xplotRequire(['plotly'], function(Plotly) {\r\n",
       "\n",
       "            var data = [{\"type\":\"bar\",\"x\":[\"Italy\",\"Spain\",\"US\",\"France\",\"China\"],\"y\":[13155,9387,4757,4043,3310]}];\n",
       "            var layout = {\"title\":\"Top 5 Countries : Deaths\"};\n",
       "            Plotly.newPlot('2f1719cf-a8f9-4e23-bd52-d3a37894d8e6', data, layout);\n",
       "        });\r\n",
       "};\r\n",
       "if ((typeof(requirejs) !==  typeof(Function)) || (typeof(requirejs.config) !== typeof(Function))) { \r\n",
       "    var script = document.createElement(\"script\"); \r\n",
       "    script.setAttribute(\"src\", \"https://cdnjs.cloudflare.com/ajax/libs/require.js/2.3.6/require.min.js\"); \r\n",
       "    script.onload = function(){\r\n",
       "        renderPlotly();\r\n",
       "    };\r\n",
       "    document.getElementsByTagName(\"head\")[0].appendChild(script); \r\n",
       "}\r\n",
       "else {\r\n",
       "    renderPlotly();\r\n",
       "}\r\n",
       "</script>"
      ]
     },
     "metadata": {},
     "output_type": "display_data"
    }
   ],
   "source": [
    "var title = \"Top 5 Countries : Deaths\";\n",
    "var series1 = new Graph.Bar{\n",
    "        x = countries.ToArray(),\n",
    "        y = deathCases.ToArray()\n",
    "    };\n",
    "\n",
    "var chart = Chart.Plot(new []{series1});\n",
    "chart.WithTitle(title);\n",
    "display(chart);"
   ]
  },
  {
   "cell_type": "markdown",
   "metadata": {},
   "source": [
    "##### Top 5 Countries with Recovered cases"
   ]
  },
  {
   "cell_type": "code",
   "execution_count": 23,
   "metadata": {},
   "outputs": [],
   "source": [
    "// Get the data\n",
    "var countryRecoveredGroup = covid19Dataframe.GroupBy(COUNTRY).Sum(RECOVERED).OrderByDescending(RECOVERED);\n",
    "var topCountriesColumn = countryRecoveredGroup.Columns[COUNTRY];\n",
    "var topRecoveredCasesByCountry = countryRecoveredGroup.Columns[RECOVERED];\n",
    "\n",
    "HashSet<string> countries = new HashSet<string>(TOP_COUNT);\n",
    "HashSet<long> recoveredCases = new HashSet<long>(TOP_COUNT);\n",
    "for(int index = 0; index < TOP_COUNT; index++)\n",
    "{\n",
    "    countries.Add(topCountriesColumn[index].ToString());\n",
    "    recoveredCases.Add(Convert.ToInt64(topRecoveredCasesByCountry[index]));\n",
    "}"
   ]
  },
  {
   "cell_type": "code",
   "execution_count": 24,
   "metadata": {},
   "outputs": [
    {
     "data": {
      "text/html": [
       "<div id=\"9115ec00-47e1-4f57-82ce-914d7ec2791a\" style=\"width: 900px; height: 500px;\"></div><script type=\"text/javascript\">\r\n",
       "\r\n",
       "var renderPlotly = function() {\r\n",
       "    var xplotRequire = requirejs.config({context:'xplot-2.0.0',paths:{plotly:'https://cdn.plot.ly/plotly-1.49.2.min'}});\r\n",
       "    xplotRequire(['plotly'], function(Plotly) {\r\n",
       "\n",
       "            var data = [{\"type\":\"bar\",\"x\":[\"China\",\"Spain\",\"Germany\",\"Italy\",\"Iran\"],\"y\":[76237,22647,18700,16847,15473]}];\n",
       "            var layout = {\"title\":\"Top 5 Countries : Recovered\"};\n",
       "            Plotly.newPlot('9115ec00-47e1-4f57-82ce-914d7ec2791a', data, layout);\n",
       "        });\r\n",
       "};\r\n",
       "if ((typeof(requirejs) !==  typeof(Function)) || (typeof(requirejs.config) !== typeof(Function))) { \r\n",
       "    var script = document.createElement(\"script\"); \r\n",
       "    script.setAttribute(\"src\", \"https://cdnjs.cloudflare.com/ajax/libs/require.js/2.3.6/require.min.js\"); \r\n",
       "    script.onload = function(){\r\n",
       "        renderPlotly();\r\n",
       "    };\r\n",
       "    document.getElementsByTagName(\"head\")[0].appendChild(script); \r\n",
       "}\r\n",
       "else {\r\n",
       "    renderPlotly();\r\n",
       "}\r\n",
       "</script>"
      ]
     },
     "metadata": {},
     "output_type": "display_data"
    }
   ],
   "source": [
    "var title = \"Top 5 Countries : Recovered\";\n",
    "var series1 = new Graph.Bar{\n",
    "        x = countries.ToArray(),\n",
    "        y = recoveredCases.ToArray()\n",
    "    };\n",
    "\n",
    "var chart = Chart.Plot(new []{series1});\n",
    "chart.WithTitle(title);\n",
    "display(chart);"
   ]
  },
  {
   "cell_type": "markdown",
   "metadata": {},
   "source": [
    "##### Number of Confirmed cases over Time"
   ]
  },
  {
   "cell_type": "code",
   "execution_count": 25,
   "metadata": {
    "scrolled": true
   },
   "outputs": [],
   "source": [
    "var confirmedOverTimeGroup = covid19Dataframe.GroupBy(LAST_UPDATE).Sum(CONFIRMED).OrderBy(LAST_UPDATE);\n",
    "var confirmedColumn = confirmedOverTimeGroup.Columns[CONFIRMED];\n",
    "var timeSeriesColumn = confirmedOverTimeGroup.Columns[LAST_UPDATE];\n",
    "\n",
    "var count = confirmedOverTimeGroup.Rows.Count;\n",
    "\n",
    "List<string> timeSeriesConfirmed = new List<string>();\n",
    "List<long> confirmedSeries = new List<long>();\n",
    "for(int index = 0; index < count; index++)\n",
    "{\n",
    "    var time = timeSeriesColumn[index].ToString();\n",
    "    var confirmedCount = Convert.ToInt64(confirmedColumn[index]);\n",
    "\n",
    "    // display($\"Index: {index}, Time: {time}, Confirmed: {confirmedCount}\");\n",
    "\n",
    "    timeSeriesConfirmed.Add(time);\n",
    "    confirmedSeries.Add(confirmedCount);\n",
    "}"
   ]
  },
  {
   "cell_type": "code",
   "execution_count": 26,
   "metadata": {},
   "outputs": [
    {
     "data": {
      "text/html": [
       "<div id=\"ad5a8edc-ba8d-45bc-af44-97a1ce24696f\" style=\"width: 900px; height: 500px;\"></div><script type=\"text/javascript\">\r\n",
       "\r\n",
       "var renderPlotly = function() {\r\n",
       "    var xplotRequire = requirejs.config({context:'xplot-2.0.0',paths:{plotly:'https://cdn.plot.ly/plotly-1.49.2.min'}});\r\n",
       "    xplotRequire(['plotly'], function(Plotly) {\r\n",
       "\n",
       "            var data = [{\"type\":\"scattergl\",\"x\":[\"2020-02-23 11:19:02\",\"2020-03-08 05:19:01\",\"2020-03-08 05:31:02\",\"2020-03-14 08:25:05\",\"2020-03-16 08:47:05\",\"2020-03-18 01:37:43\",\"2020-03-20 04:33:45\",\"2020-03-26 00:15:39\",\"2020-03-29 00:14:12\",\"2020-03-29 00:28:20\",\"2020-03-29 01:44:01\",\"2020-03-30 03:15:15\",\"2020-03-31 00:44:17\",\"2020-03-31 01:10:41\",\"2020-03-31 01:23:49\",\"2020-03-31 13:54:04\",\"2020-03-31 23:31:54\",\"2020-03-31 23:35:56\",\"2020-04-01 00:04:18\",\"2020-04-01 00:13:24\",\"2020-04-01 00:18:27\",\"2020-04-01 00:55:49\",\"2020-04-01 01:36:18\",\"2020-04-01 05:36:53\",\"2020-04-01 06:20:26\",\"2020-04-01 10:53:31\",\"2020-04-01 10:56:33\",\"2020-04-01 11:07:39\",\"2020-04-01 11:54:10\",\"2020-04-01 14:00:34\",\"2020-04-01 21:58:34\",\"2020-04-01 21:58:49\",\"2020-04-01 22:04:44\",\"2020-04-01 22:04:58\"],\"y\":[19,990,76,1018,75,146,254,484,579,98,1276,937,774,646,1257,41,182,137,516,323,140,580,255,1501,67913,176,329,765,897,138,622121,213372,9560,4862],\"mode\":\"lines+markers\"}];\n",
       "            var layout = {\"title\":\"Number of Confirmed Cases over Time\"};\n",
       "            Plotly.newPlot('ad5a8edc-ba8d-45bc-af44-97a1ce24696f', data, layout);\n",
       "        });\r\n",
       "};\r\n",
       "if ((typeof(requirejs) !==  typeof(Function)) || (typeof(requirejs.config) !== typeof(Function))) { \r\n",
       "    var script = document.createElement(\"script\"); \r\n",
       "    script.setAttribute(\"src\", \"https://cdnjs.cloudflare.com/ajax/libs/require.js/2.3.6/require.min.js\"); \r\n",
       "    script.onload = function(){\r\n",
       "        renderPlotly();\r\n",
       "    };\r\n",
       "    document.getElementsByTagName(\"head\")[0].appendChild(script); \r\n",
       "}\r\n",
       "else {\r\n",
       "    renderPlotly();\r\n",
       "}\r\n",
       "</script>"
      ]
     },
     "metadata": {},
     "output_type": "display_data"
    }
   ],
   "source": [
    "var title = \"Number of Confirmed Cases over Time\";\n",
    "var confirmedTimeGraph = new Graph.Scattergl()\n",
    "    {\n",
    "        x = timeSeriesConfirmed.ToArray(),\n",
    "        y = confirmedSeries.ToArray(),\n",
    "        mode = \"lines+markers\"\n",
    "    };\n",
    "\n",
    "var chart = Chart.Plot(confirmedTimeGraph);\n",
    "chart.WithTitle(title);\n",
    "display(chart);"
   ]
  },
  {
   "cell_type": "markdown",
   "metadata": {},
   "source": [
    "###### Looking at the plot above, it seems confirmed cases have shot up in the last week of March."
   ]
  },
  {
   "cell_type": "markdown",
   "metadata": {},
   "source": [
    "##### Number of Deaths over Time"
   ]
  },
  {
   "cell_type": "code",
   "execution_count": 27,
   "metadata": {
    "scrolled": true
   },
   "outputs": [],
   "source": [
    "var deathsOverTimeGroup = covid19Dataframe.GroupBy(LAST_UPDATE).Sum(DEATHS).OrderBy(LAST_UPDATE);\n",
    "var deathsColumn = deathsOverTimeGroup.Columns[DEATHS];\n",
    "var timeSeriesColumn = deathsOverTimeGroup.Columns[LAST_UPDATE];\n",
    "\n",
    "var count = deathsOverTimeGroup.Rows.Count;\n",
    "\n",
    "List<string> timeSeries = new List<string>();\n",
    "List<long> deathSeries = new List<long>();\n",
    "for(int index = 0; index < count; index++)\n",
    "{\n",
    "    var time = timeSeriesColumn[index].ToString();\n",
    "    var death = Convert.ToInt64(deathsColumn[index]);\n",
    "\n",
    "    // display($\"Index: {index}, Time: {time}, Deaths: {death}\");\n",
    "\n",
    "    timeSeries.Add(timeSeriesColumn[index].ToString());\n",
    "    deathSeries.Add(Convert.ToInt64(deathsColumn[index]));\n",
    "}"
   ]
  },
  {
   "cell_type": "code",
   "execution_count": 28,
   "metadata": {},
   "outputs": [
    {
     "data": {
      "text/html": [
       "<div id=\"e593ada5-5971-4764-b75b-46879331a01f\" style=\"width: 900px; height: 500px;\"></div><script type=\"text/javascript\">\r\n",
       "\r\n",
       "var renderPlotly = function() {\r\n",
       "    var xplotRequire = requirejs.config({context:'xplot-2.0.0',paths:{plotly:'https://cdn.plot.ly/plotly-1.49.2.min'}});\r\n",
       "    xplotRequire(['plotly'], function(Plotly) {\r\n",
       "\n",
       "            var data = [{\"type\":\"scattergl\",\"x\":[\"2020-02-23 11:19:02\",\"2020-03-08 05:19:01\",\"2020-03-08 05:31:02\",\"2020-03-14 08:25:05\",\"2020-03-16 08:47:05\",\"2020-03-18 01:37:43\",\"2020-03-20 04:33:45\",\"2020-03-26 00:15:39\",\"2020-03-29 00:14:12\",\"2020-03-29 00:28:20\",\"2020-03-29 01:44:01\",\"2020-03-30 03:15:15\",\"2020-03-31 00:44:17\",\"2020-03-31 01:10:41\",\"2020-03-31 01:23:49\",\"2020-03-31 13:54:04\",\"2020-03-31 23:31:54\",\"2020-03-31 23:35:56\",\"2020-04-01 00:04:18\",\"2020-04-01 00:13:24\",\"2020-04-01 00:18:27\",\"2020-04-01 00:55:49\",\"2020-04-01 01:36:18\",\"2020-04-01 05:36:53\",\"2020-04-01 06:20:26\",\"2020-04-01 10:53:31\",\"2020-04-01 10:56:33\",\"2020-04-01 11:07:39\",\"2020-04-01 11:54:10\",\"2020-04-01 14:00:34\",\"2020-04-01 21:58:34\",\"2020-04-01 21:58:49\",\"2020-04-01 22:04:44\",\"2020-04-01 22:04:58\"],\"y\":[0,6,3,4,0,2,2,13,6,1,22,1,7,0,1,0,2,0,6,6,2,8,3,8,3194,3,5,4,4,2,38602,4757,109,20],\"mode\":\"lines+markers\"}];\n",
       "            var layout = {\"title\":\"Number of Deaths over Time\"};\n",
       "            Plotly.newPlot('e593ada5-5971-4764-b75b-46879331a01f', data, layout);\n",
       "        });\r\n",
       "};\r\n",
       "if ((typeof(requirejs) !==  typeof(Function)) || (typeof(requirejs.config) !== typeof(Function))) { \r\n",
       "    var script = document.createElement(\"script\"); \r\n",
       "    script.setAttribute(\"src\", \"https://cdnjs.cloudflare.com/ajax/libs/require.js/2.3.6/require.min.js\"); \r\n",
       "    script.onload = function(){\r\n",
       "        renderPlotly();\r\n",
       "    };\r\n",
       "    document.getElementsByTagName(\"head\")[0].appendChild(script); \r\n",
       "}\r\n",
       "else {\r\n",
       "    renderPlotly();\r\n",
       "}\r\n",
       "</script>"
      ]
     },
     "metadata": {},
     "output_type": "display_data"
    }
   ],
   "source": [
    "\n",
    "var title = \"Number of Deaths over Time\";\n",
    "var deathTimeGraph = new Graph.Scattergl()\n",
    "    {\n",
    "        x = timeSeries.ToArray(),\n",
    "        y = deathSeries.ToArray(),\n",
    "        mode = \"lines+markers\"\n",
    "    };\n",
    "\n",
    "var chart = Chart.Plot(deathTimeGraph);\n",
    "chart.WithTitle(title);\n",
    "display(chart);"
   ]
  },
  {
   "cell_type": "markdown",
   "metadata": {},
   "source": [
    "##### Number of Recovered cases over Time"
   ]
  },
  {
   "cell_type": "code",
   "execution_count": 29,
   "metadata": {
    "scrolled": true
   },
   "outputs": [],
   "source": [
    "var recoveredOverTimeGroup = covid19Dataframe.GroupBy(LAST_UPDATE).Sum(RECOVERED).OrderBy(LAST_UPDATE);\n",
    "var recoveredColumn = recoveredOverTimeGroup.Columns[RECOVERED];\n",
    "var timeSeriesColumn = recoveredOverTimeGroup.Columns[LAST_UPDATE];\n",
    "\n",
    "var count = recoveredOverTimeGroup.Rows.Count;\n",
    "\n",
    "List<string> timeSeries = new List<string>();\n",
    "List<long> recoveredSeries = new List<long>();\n",
    "for(int index = 0; index < count; index++)\n",
    "{\n",
    "    var time = timeSeriesColumn[index].ToString();\n",
    "    var recoveredCount = Convert.ToInt64(recoveredColumn[index]);\n",
    "\n",
    "    // display($\"Index: {index}, Time: {time}, Recovered: {recoveredCount}\");\n",
    "\n",
    "    timeSeries.Add(time);\n",
    "    recoveredSeries.Add(recoveredCount);\n",
    "}"
   ]
  },
  {
   "cell_type": "code",
   "execution_count": 30,
   "metadata": {},
   "outputs": [
    {
     "data": {
      "text/html": [
       "<div id=\"c53f854d-0277-402b-a7fb-c4b440dd3ed2\" style=\"width: 900px; height: 500px;\"></div><script type=\"text/javascript\">\r\n",
       "\r\n",
       "var renderPlotly = function() {\r\n",
       "    var xplotRequire = requirejs.config({context:'xplot-2.0.0',paths:{plotly:'https://cdn.plot.ly/plotly-1.49.2.min'}});\r\n",
       "    xplotRequire(['plotly'], function(Plotly) {\r\n",
       "\n",
       "            var data = [{\"type\":\"scattergl\",\"x\":[\"2020-02-23 11:19:02\",\"2020-03-08 05:19:01\",\"2020-03-08 05:31:02\",\"2020-03-14 08:25:05\",\"2020-03-16 08:47:05\",\"2020-03-18 01:37:43\",\"2020-03-20 04:33:45\",\"2020-03-26 00:15:39\",\"2020-03-29 00:14:12\",\"2020-03-29 00:28:20\",\"2020-03-29 01:44:01\",\"2020-03-30 03:15:15\",\"2020-03-31 00:44:17\",\"2020-03-31 01:10:41\",\"2020-03-31 01:23:49\",\"2020-03-31 13:54:04\",\"2020-03-31 23:31:54\",\"2020-03-31 23:35:56\",\"2020-04-01 00:04:18\",\"2020-04-01 00:13:24\",\"2020-04-01 00:18:27\",\"2020-04-01 00:55:49\",\"2020-04-01 01:36:18\",\"2020-04-01 05:36:53\",\"2020-04-01 06:20:26\",\"2020-04-01 10:53:31\",\"2020-04-01 10:56:33\",\"2020-04-01 11:07:39\",\"2020-04-01 11:54:10\",\"2020-04-01 14:00:34\",\"2020-04-01 21:58:34\",\"2020-04-01 21:58:49\",\"2020-04-01 22:04:44\",\"2020-04-01 22:04:58\"],\"y\":[19,984,73,1014,75,144,250,469,570,92,1251,935,753,631,1226,10,172,133,341,310,124,418,242,1357,63400,135,39,147,835,127,106513,8474,1324,422],\"mode\":\"lines+markers\"}];\n",
       "            var layout = {\"title\":\"Number of Recovered cases over Time\"};\n",
       "            Plotly.newPlot('c53f854d-0277-402b-a7fb-c4b440dd3ed2', data, layout);\n",
       "        });\r\n",
       "};\r\n",
       "if ((typeof(requirejs) !==  typeof(Function)) || (typeof(requirejs.config) !== typeof(Function))) { \r\n",
       "    var script = document.createElement(\"script\"); \r\n",
       "    script.setAttribute(\"src\", \"https://cdnjs.cloudflare.com/ajax/libs/require.js/2.3.6/require.min.js\"); \r\n",
       "    script.onload = function(){\r\n",
       "        renderPlotly();\r\n",
       "    };\r\n",
       "    document.getElementsByTagName(\"head\")[0].appendChild(script); \r\n",
       "}\r\n",
       "else {\r\n",
       "    renderPlotly();\r\n",
       "}\r\n",
       "</script>"
      ]
     },
     "metadata": {},
     "output_type": "display_data"
    }
   ],
   "source": [
    "var title = \"Number of Recovered cases over Time\";\n",
    "var recoveredTimegraph = new Graph.Scattergl()\n",
    "    {\n",
    "        x = timeSeries.ToArray(),\n",
    "        y = recoveredSeries.ToArray(),\n",
    "        mode = \"lines+markers\"\n",
    "    };\n",
    "\n",
    "var chart = Chart.Plot(recoveredTimegraph);\n",
    "chart.WithTitle(title);\n",
    "display(chart);"
   ]
  },
  {
   "cell_type": "markdown",
   "metadata": {},
   "source": [
    "#### India"
   ]
  },
  {
   "cell_type": "markdown",
   "metadata": {},
   "source": [
    "##### Collect Data"
   ]
  },
  {
   "cell_type": "markdown",
   "metadata": {},
   "source": [
    "##### Confirmed Vs Deaths Vs Receovered cases"
   ]
  },
  {
   "cell_type": "code",
   "execution_count": 31,
   "metadata": {},
   "outputs": [
    {
     "data": {
      "text/html": [
       "<table><thead><th><i>index</i></th><th>FIPS</th><th>Admin2</th><th>Province_State</th><th>Country_Region</th><th>Last_Update</th><th>Lat</th><th>Long_</th><th>Confirmed</th><th>Deaths</th><th>Recovered</th><th>Active</th><th>Combined_Key</th></thead><tbody><tr><td>0</td><td>&lt;null&gt;</td><td></td><td></td><td>India</td><td>2020-04-01 21:58:34</td><td>20.593683</td><td>78.96288</td><td>1998</td><td>58</td><td>148</td><td>1792</td><td>India</td></tr></tbody></table>"
      ]
     },
     "metadata": {},
     "output_type": "display_data"
    }
   ],
   "source": [
    "PrimitiveDataFrameColumn<bool> indiaFilter = covid19Dataframe.Columns[COUNTRY].ElementwiseEquals(INDIA);\n",
    "var indiaDataFrame = covid19Dataframe.Filter(indiaFilter);\n",
    "display(indiaDataFrame.Head((int)indiaDataFrame.Rows.Count));\n",
    "            \n",
    "var indiaConfirmed = indiaDataFrame.Columns[CONFIRMED];\n",
    "var indiaDeaths = indiaDataFrame.Columns[DEATHS];\n",
    "var indiaRecovered = indiaDataFrame.Columns[RECOVERED];\n",
    "\n",
    "var indiaTotalConfirmed = Convert.ToDouble(indiaConfirmed.Sum());\n",
    "var indiaTotalDeaths = Convert.ToDouble(indiaDeaths.Sum());\n",
    "var indiaTotaRecovered = Convert.ToDouble(indiaRecovered.Sum());"
   ]
  },
  {
   "cell_type": "code",
   "execution_count": 32,
   "metadata": {},
   "outputs": [
    {
     "data": {
      "text/html": [
       "<div id=\"13f2a6f5-48ad-4972-897e-8158e53a799b\" style=\"width: 900px; height: 500px;\"></div><script type=\"text/javascript\">\r\n",
       "\r\n",
       "var renderPlotly = function() {\r\n",
       "    var xplotRequire = requirejs.config({context:'xplot-2.0.0',paths:{plotly:'https://cdn.plot.ly/plotly-1.49.2.min'}});\r\n",
       "    xplotRequire(['plotly'], function(Plotly) {\r\n",
       "\n",
       "            var data = [{\"type\":\"pie\",\"labels\":[\"Confirmed\",\"Deaths\",\"Recovered\"],\"values\":[1998.0,58.0,148.0]}];\n",
       "            var layout = \"\";\n",
       "            Plotly.newPlot('13f2a6f5-48ad-4972-897e-8158e53a799b', data, layout);\n",
       "        });\r\n",
       "};\r\n",
       "if ((typeof(requirejs) !==  typeof(Function)) || (typeof(requirejs.config) !== typeof(Function))) { \r\n",
       "    var script = document.createElement(\"script\"); \r\n",
       "    script.setAttribute(\"src\", \"https://cdnjs.cloudflare.com/ajax/libs/require.js/2.3.6/require.min.js\"); \r\n",
       "    script.onload = function(){\r\n",
       "        renderPlotly();\r\n",
       "    };\r\n",
       "    document.getElementsByTagName(\"head\")[0].appendChild(script); \r\n",
       "}\r\n",
       "else {\r\n",
       "    renderPlotly();\r\n",
       "}\r\n",
       "</script>"
      ]
     },
     "metadata": {},
     "output_type": "display_data"
    }
   ],
   "source": [
    "display(Chart.Plot(\n",
    "    new Graph.Pie()\n",
    "    {\n",
    "        values = new double[]{indiaTotalConfirmed, indiaTotalDeaths, indiaTotaRecovered},\n",
    "        labels = new string[] {CONFIRMED, DEATHS, RECOVERED}\n",
    "    }\n",
    "));"
   ]
  },
  {
   "cell_type": "markdown",
   "metadata": {},
   "source": [
    "## Conclusion"
   ]
  },
  {
   "cell_type": "markdown",
   "metadata": {},
   "source": [
    "I hope you have enjoyed reading the notebook, and might have got some idea on the powerful framework ML.Net and various features of DataFrame. ML.Net is a very fast emerging framework for .Net developers which abstracts lot of complexity present in the field of Data science and Machine Learning. The focus of this notebook is data analysis and there is nothing present from a Machine Learning perspective such as making a prediction. I'll plan to write something on applying Machine learning using ML.Net on this dataset where we'll explore on IDataView, Model, training etc.\n",
    "\n",
    "Feedback/Suggestion are welcome. Please reach out to me through below channels\n",
    "\n",
    "**Contact**\n",
    "\n",
    "**Email    :** praveenraghuvanshi@gmail.com  \n",
    "**LinkedIn :** https://in.linkedin.com/in/praveenraghuvanshi  \n",
    "**Github   :** https://github.com/praveenraghuvanshi1512  \n",
    "**Twitter  :** @praveenraghuvan\n",
    "\n"
   ]
  },
  {
   "cell_type": "markdown",
   "metadata": {},
   "source": [
    "## References\n",
    "- [Using ML.NET in Jupyter notebooks](https://devblogs.microsoft.com/cesardelatorre/using-ml-net-in-jupyter-notebooks/)\n",
    "- [An Introduction to DataFrame](https://devblogs.microsoft.com/dotnet/an-introduction-to-dataframe/)\n",
    "- [DataFrame - Sample](https://github.com/dotnet/interactive/blob/master/NotebookExamples/csharp/Samples/HousingML.ipynb)\n",
    "- [Getting started with ML.NET in Jupyter Notebooks](https://xamlbrewer.wordpress.com/2020/02/20/getting-started-with-ml-net-in-jupyter-notebooks/)\n",
    "- [Tips and tricks for C# Jupyter notebook](https://ewinnington.github.io/posts/jupyter-tips-csharp)\n",
    "- [Jupyter notebooks with C# and R running](https://github.com/ewinnington/noteb)\n",
    "- [Data analysis using F# and Jupyter notebook — Samuele Resca](https://medium.com/@samueleresca/data-analysis-using-f-and-jupyter-notebook-samuele-resca-66a229e25306)\n",
    "- [Exploring the C# Dataframe API](https://www.youtube.com/watch?v=FI3VxXClJ7Y) by Jon Wood"
   ]
  },
  {
   "cell_type": "markdown",
   "metadata": {},
   "source": [
    "#  ******************** Be Safe **********************"
   ]
  }
 ],
 "metadata": {
  "kernelspec": {
   "display_name": ".NET (C#)",
   "language": "C#",
   "name": ".net-csharp"
  },
  "language_info": {
   "file_extension": ".cs",
   "mimetype": "text/x-csharp",
   "name": "C#",
   "pygments_lexer": "csharp",
   "version": "8.0"
  },
  "nteract": {
   "version": "0.22.4"
  }
 },
 "nbformat": 4,
 "nbformat_minor": 2
}
