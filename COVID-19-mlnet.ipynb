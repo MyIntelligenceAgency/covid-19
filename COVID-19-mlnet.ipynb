{
 "cells": [
  {
   "cell_type": "markdown",
   "metadata": {},
   "source": [
    "# COVID-19 Exploratory Data Analysis using ML.Net"
   ]
  },
  {
   "cell_type": "markdown",
   "metadata": {},
   "source": [
    "## COVID-19\n",
    "- As per [Wiki](https://en.wikipedia.org/wiki/Coronavirus_disease_2019) **Coronavirus disease 2019** (**COVID-19**) is an infectious disease caused by severe acute respiratory syndrome coronavirus 2 (SARS-CoV-2). The disease was first identified in 2019 in Wuhan, the capital of China's Hubei province, and has since spread globally, resulting in the ongoing 2019–20 coronavirus pandemic.\n",
    "- The virus had caused a pandemic across the globe and spreading/affecting most of the nations. \n",
    "- The purpose of notebook is to visualize the trends of virus spread in various countries and explore features present in ML.Net such as DataFrame."
   ]
  },
  {
   "cell_type": "markdown",
   "metadata": {},
   "source": [
    "### Acknowledgement\n",
    "- [Johns Hopkins CSSE](https://github.com/CSSEGISandData/COVID-19/raw/master/csse_covid_19_data) for dataset\n",
    "- [COVID-19 data visualization](https://www.kaggle.com/akshaysb/covid-19-data-visualization) by Akshay Sb"
   ]
  },
  {
   "cell_type": "markdown",
   "metadata": {},
   "source": [
    "### Links\n",
    "\n",
    "- **Dataset :** [2019 Novel Coronavirus COVID-19 (2019-nCoV) Data Repository by Johns Hopkins CSSE - Daily reports](https://github.com/CSSEGISandData/COVID-19/raw/master/csse_covid_19_data/csse_covid_19_daily_reports)."
   ]
  },
  {
   "cell_type": "markdown",
   "metadata": {},
   "source": [
    "### Summary\n",
    "\n",
    "Below is the summary of steps we'll be performing\n",
    "\n",
    "1. Import necessary libraries and modules\n",
    "    - Nuget packages\n",
    "    - Namespaces      \n",
    "     \n",
    "2. Utility Functions\n",
    "    - Formatters    \n",
    "\n",
    "3. Load Dataset\n",
    "    - Download Dataset from [Johns Hopkins CSSE](https://github.com/CSSEGISandData/COVID-19/raw/master/csse_covid_19_data)\n",
    "    - Load dataset in DataFrame\n",
    "    \n",
    "4. Analyse Data\n",
    "    - Date Range\n",
    "    - display(dataframe)\n",
    "    - dataframe.Head(5)\n",
    "    - dataframe.Sample(6)    \n",
    "    - dataframe.Description()\n",
    "    - dataframe.Info()\n",
    "\n",
    "5. Data Cleaning\n",
    "    - Remove Invalid Active cases\n",
    "\n",
    "6. Data Visualization\n",
    "    - Global\n",
    "        - Confirmed Vs Deaths Vs Recovered\n",
    "        - Top 5 Countries with Confirmed cases\n",
    "        - Top 5 Countries with Death cases\n",
    "        - Top 5 Countries with Recovered cases\n",
    "    - India\n",
    "        - Confirmed Vs Deaths Vs Recovered"
   ]
  },
  {
   "cell_type": "markdown",
   "metadata": {},
   "source": [
    "### 1. Import necessary libraries and modules"
   ]
  },
  {
   "cell_type": "code",
   "execution_count": 1,
   "metadata": {},
   "outputs": [
    {
     "data": {
      "text/html": [
       "Installing package Microsoft.ML..................................done!"
      ]
     },
     "metadata": {},
     "output_type": "display_data"
    },
    {
     "data": {
      "text/html": [
       "Successfully added reference to package Microsoft.ML, version 1.4.0"
      ]
     },
     "metadata": {},
     "output_type": "display_data"
    },
    {
     "data": {
      "text/html": [
       "Installing package Microsoft.Data.Analysis............done!"
      ]
     },
     "metadata": {},
     "output_type": "display_data"
    },
    {
     "data": {
      "text/html": [
       "Successfully added reference to package Microsoft.Data.Analysis, version 0.3.0"
      ]
     },
     "metadata": {},
     "output_type": "display_data"
    },
    {
     "data": {
      "text/html": [
       "Installing package XPlot.Plotly...........done!"
      ]
     },
     "metadata": {},
     "output_type": "display_data"
    },
    {
     "data": {
      "text/html": [
       "Successfully added reference to package XPlot.Plotly, version 3.0.1"
      ]
     },
     "metadata": {},
     "output_type": "display_data"
    }
   ],
   "source": [
    "// ML.NET Nuget packages installation\n",
    "#r \"nuget:Microsoft.ML\"\n",
    "#r \"nuget:Microsoft.Data.Analysis\"\n",
    "\n",
    "//Install XPlot package\n",
    "#r \"nuget:XPlot.Plotly\""
   ]
  },
  {
   "cell_type": "markdown",
   "metadata": {},
   "source": [
    "#### Namespaces"
   ]
  },
  {
   "cell_type": "code",
   "execution_count": 2,
   "metadata": {},
   "outputs": [],
   "source": [
    "using Microsoft.ML;\n",
    "using Microsoft.ML.Data;\n",
    "using Microsoft.Data.Analysis;\n",
    "using XPlot.Plotly;\n",
    "using Microsoft.AspNetCore.Html;\n",
    "using System.IO;\n",
    "using System.Net.Http;"
   ]
  },
  {
   "cell_type": "markdown",
   "metadata": {},
   "source": [
    "### 2. Utility Functions"
   ]
  },
  {
   "cell_type": "markdown",
   "metadata": {},
   "source": [
    "#### Formatters"
   ]
  },
  {
   "cell_type": "code",
   "execution_count": 3,
   "metadata": {},
   "outputs": [],
   "source": [
    "Formatter<DataFrame>.Register((df, writer) =>\n",
    "{\n",
    "    var headers = new List<IHtmlContent>();\n",
    "    headers.Add(th(i(\"index\")));\n",
    "    headers.AddRange(df.Columns.Select(c => (IHtmlContent) th(c.Name)));\n",
    "    var rows = new List<List<IHtmlContent>>();\n",
    "    var take = 20;\n",
    "    for (var i = 0; i < Math.Min(take, df.Rows.Count); i++)\n",
    "    {\n",
    "        var cells = new List<IHtmlContent>();\n",
    "        cells.Add(td(i));\n",
    "        foreach (var obj in df.Rows[i])\n",
    "        {\n",
    "            cells.Add(td(obj));\n",
    "        }\n",
    "        rows.Add(cells);\n",
    "    }\n",
    "\n",
    "    var t = table(\n",
    "        thead(\n",
    "            headers),\n",
    "        tbody(\n",
    "            rows.Select(\n",
    "                r => tr(r))));\n",
    "\n",
    "    writer.Write(t);\n",
    "}, \"text/html\");"
   ]
  },
  {
   "cell_type": "markdown",
   "metadata": {},
   "source": [
    "### 3. Load Dataset"
   ]
  },
  {
   "cell_type": "markdown",
   "metadata": {},
   "source": [
    "#### Download Dataset from [Johns Hopkins CSSE](https://github.com/CSSEGISandData/COVID-19/raw/master/csse_covid_19_data)"
   ]
  },
  {
   "cell_type": "code",
   "execution_count": 4,
   "metadata": {},
   "outputs": [],
   "source": [
    "string lastUpdatedFile = \"03-28-2020.csv\";\n",
    "if (!File.Exists(lastUpdatedFile))\n",
    "{\n",
    "    var contents = new HttpClient()\n",
    "        .GetStringAsync($\"https://raw.githubusercontent.com/CSSEGISandData/COVID-19/master/csse_covid_19_data/csse_covid_19_daily_reports/{lastUpdatedFile}\").Result;\n",
    "        \n",
    "    File.WriteAllText(lastUpdatedFile, contents);\n",
    "}"
   ]
  },
  {
   "cell_type": "markdown",
   "metadata": {},
   "source": [
    "#### Load dataset in DataFrame"
   ]
  },
  {
   "cell_type": "code",
   "execution_count": 5,
   "metadata": {},
   "outputs": [],
   "source": [
    "var covid19Dataframe = DataFrame.LoadCsv(lastUpdatedFile);"
   ]
  },
  {
   "cell_type": "markdown",
   "metadata": {},
   "source": [
    "### 4. Analyse Data"
   ]
  },
  {
   "cell_type": "markdown",
   "metadata": {},
   "source": [
    "#### Constants"
   ]
  },
  {
   "cell_type": "code",
   "execution_count": 6,
   "metadata": {},
   "outputs": [],
   "source": [
    "// Column Names\n",
    "const string FIPS = \"FIPS\";\n",
    "const string ADMIN = \"Admin2\";\n",
    "const string STATE = \"Province_State\";\n",
    "const string COUNTRY = \"Country_Region\";\n",
    "const string LAST_UPDATE = \"Last_Update\";\n",
    "const string LATITUDE = \"Lat\";\n",
    "const string LONGITUDE = \"Long_\";\n",
    "const string CONFIRMED = \"Confirmed\";\n",
    "const string DEATHS = \"Deaths\";\n",
    "const string RECOVERED = \"Recovered\";\n",
    "const string ACTIVE = \"Active\";\n",
    "const string COMBINED_KEY = \"Combined_Key\";\n",
    "\n",
    "const int TOP_COUNT = 5;\n",
    "const string VALUES = \"Values\";\n",
    "const string INDIA = \"India\";\n"
   ]
  },
  {
   "cell_type": "code",
   "execution_count": 7,
   "metadata": {},
   "outputs": [
    {
     "data": {
      "text/html": [
       "<h4>The data is between 2/23/2020 and 3/28/2020</h4>"
      ]
     },
     "metadata": {},
     "output_type": "display_data"
    }
   ],
   "source": [
    "var dateRangeDataFrame = covid19Dataframe.Columns[LAST_UPDATE].ValueCounts();\n",
    "var dataRange = dateRangeDataFrame.Columns[VALUES].Sort();\n",
    "var lastElementIndex = dataRange.Length - 1;\n",
    "\n",
    "var startDate = DateTime.Parse(dataRange[0].ToString()).ToShortDateString();\n",
    "var lastDate  = DateTime.Parse(dataRange[lastElementIndex].ToString()).ToShortDateString(); // Last Element\n",
    "\n",
    "display(h4($\"The data is between {startDate} and {lastDate}\"));"
   ]
  },
  {
   "cell_type": "code",
   "execution_count": 8,
   "metadata": {},
   "outputs": [
    {
     "data": {
      "text/html": [
       "<table><thead><th><i>index</i></th><th>FIPS</th><th>Admin2</th><th>Province_State</th><th>Country_Region</th><th>Last_Update</th><th>Lat</th><th>Long_</th><th>Confirmed</th><th>Deaths</th><th>Recovered</th><th>Active</th><th>Combined_Key</th></thead><tbody><tr><td>0</td><td>45001</td><td>Abbeville</td><td>South Carolina</td><td>US</td><td>2020-03-28 23:05:37</td><td>34.223335</td><td>-82.46171</td><td>3</td><td>0</td><td>0</td><td>0</td><td>&quot;Abbeville, South Carolina, US&quot;</td></tr><tr><td>1</td><td>22001</td><td>Acadia</td><td>Louisiana</td><td>US</td><td>2020-03-28 23:05:37</td><td>30.295065</td><td>-92.4142</td><td>9</td><td>1</td><td>0</td><td>0</td><td>&quot;Acadia, Louisiana, US&quot;</td></tr><tr><td>2</td><td>51001</td><td>Accomack</td><td>Virginia</td><td>US</td><td>2020-03-28 23:05:37</td><td>37.76707</td><td>-75.63235</td><td>2</td><td>0</td><td>0</td><td>0</td><td>&quot;Accomack, Virginia, US&quot;</td></tr><tr><td>3</td><td>16001</td><td>Ada</td><td>Idaho</td><td>US</td><td>2020-03-28 23:05:37</td><td>43.452656</td><td>-116.241554</td><td>76</td><td>0</td><td>0</td><td>0</td><td>&quot;Ada, Idaho, US&quot;</td></tr><tr><td>4</td><td>19001</td><td>Adair</td><td>Iowa</td><td>US</td><td>2020-03-28 23:05:37</td><td>41.330757</td><td>-94.47106</td><td>1</td><td>0</td><td>0</td><td>0</td><td>&quot;Adair, Iowa, US&quot;</td></tr><tr><td>5</td><td>21001</td><td>Adair</td><td>Kentucky</td><td>US</td><td>2020-03-28 23:05:37</td><td>37.1046</td><td>-85.281296</td><td>0</td><td>0</td><td>0</td><td>0</td><td>&quot;Adair, Kentucky, US&quot;</td></tr><tr><td>6</td><td>29001</td><td>Adair</td><td>Missouri</td><td>US</td><td>2020-03-28 23:05:37</td><td>40.190586</td><td>-92.600784</td><td>1</td><td>0</td><td>0</td><td>0</td><td>&quot;Adair, Missouri, US&quot;</td></tr><tr><td>7</td><td>40001</td><td>Adair</td><td>Oklahoma</td><td>US</td><td>2020-03-28 23:05:37</td><td>35.88494</td><td>-94.65859</td><td>3</td><td>0</td><td>0</td><td>0</td><td>&quot;Adair, Oklahoma, US&quot;</td></tr><tr><td>8</td><td>8001</td><td>Adams</td><td>Colorado</td><td>US</td><td>2020-03-28 23:05:37</td><td>39.87432</td><td>-104.33626</td><td>71</td><td>0</td><td>0</td><td>0</td><td>&quot;Adams, Colorado, US&quot;</td></tr><tr><td>9</td><td>16003</td><td>Adams</td><td>Idaho</td><td>US</td><td>2020-03-28 23:05:37</td><td>44.893337</td><td>-116.45452</td><td>0</td><td>0</td><td>0</td><td>0</td><td>&quot;Adams, Idaho, US&quot;</td></tr><tr><td>10</td><td>17001</td><td>Adams</td><td>Illinois</td><td>US</td><td>2020-03-28 23:05:37</td><td>39.988155</td><td>-91.18787</td><td>1</td><td>0</td><td>0</td><td>0</td><td>&quot;Adams, Illinois, US&quot;</td></tr><tr><td>11</td><td>18001</td><td>Adams</td><td>Indiana</td><td>US</td><td>2020-03-28 23:05:37</td><td>40.745766</td><td>-84.936714</td><td>1</td><td>0</td><td>0</td><td>0</td><td>&quot;Adams, Indiana, US&quot;</td></tr><tr><td>12</td><td>19003</td><td>Adams</td><td>Iowa</td><td>US</td><td>2020-03-28 23:05:37</td><td>41.029037</td><td>-94.699326</td><td>0</td><td>0</td><td>0</td><td>0</td><td>&quot;Adams, Iowa, US&quot;</td></tr><tr><td>13</td><td>28001</td><td>Adams</td><td>Mississippi</td><td>US</td><td>2020-03-28 23:05:37</td><td>31.476698</td><td>-91.353264</td><td>6</td><td>0</td><td>0</td><td>0</td><td>&quot;Adams, Mississippi, US&quot;</td></tr><tr><td>14</td><td>31001</td><td>Adams</td><td>Nebraska</td><td>US</td><td>2020-03-28 23:05:37</td><td>40.524494</td><td>-98.501175</td><td>2</td><td>0</td><td>0</td><td>0</td><td>&quot;Adams, Nebraska, US&quot;</td></tr><tr><td>15</td><td>38001</td><td>Adams</td><td>North Dakota</td><td>US</td><td>2020-03-28 23:05:37</td><td>46.09687</td><td>-102.52854</td><td>0</td><td>0</td><td>0</td><td>0</td><td>&quot;Adams, North Dakota, US&quot;</td></tr><tr><td>16</td><td>39001</td><td>Adams</td><td>Ohio</td><td>US</td><td>2020-03-28 23:05:37</td><td>38.84541</td><td>-83.47189</td><td>0</td><td>0</td><td>0</td><td>0</td><td>&quot;Adams, Ohio, US&quot;</td></tr><tr><td>17</td><td>42001</td><td>Adams</td><td>Pennsylvania</td><td>US</td><td>2020-03-28 23:05:37</td><td>39.871403</td><td>-77.2161</td><td>8</td><td>0</td><td>0</td><td>0</td><td>&quot;Adams, Pennsylvania, US&quot;</td></tr><tr><td>18</td><td>53001</td><td>Adams</td><td>Washington</td><td>US</td><td>2020-03-28 23:05:37</td><td>46.982998</td><td>-118.56017</td><td>5</td><td>0</td><td>0</td><td>0</td><td>&quot;Adams, Washington, US&quot;</td></tr><tr><td>19</td><td>55001</td><td>Adams</td><td>Wisconsin</td><td>US</td><td>2020-03-28 23:05:37</td><td>43.969746</td><td>-89.76783</td><td>0</td><td>0</td><td>0</td><td>0</td><td>&quot;Adams, Wisconsin, US&quot;</td></tr></tbody></table>"
      ]
     },
     "metadata": {},
     "output_type": "display_data"
    }
   ],
   "source": [
    "display(covid19Dataframe)"
   ]
  },
  {
   "cell_type": "code",
   "execution_count": 9,
   "metadata": {},
   "outputs": [
    {
     "data": {
      "text/html": [
       "<table><thead><th><i>index</i></th><th>FIPS</th><th>Admin2</th><th>Province_State</th><th>Country_Region</th><th>Last_Update</th><th>Lat</th><th>Long_</th><th>Confirmed</th><th>Deaths</th><th>Recovered</th><th>Active</th><th>Combined_Key</th></thead><tbody><tr><td>0</td><td>45001</td><td>Abbeville</td><td>South Carolina</td><td>US</td><td>2020-03-28 23:05:37</td><td>34.223335</td><td>-82.46171</td><td>3</td><td>0</td><td>0</td><td>0</td><td>&quot;Abbeville, South Carolina, US&quot;</td></tr><tr><td>1</td><td>22001</td><td>Acadia</td><td>Louisiana</td><td>US</td><td>2020-03-28 23:05:37</td><td>30.295065</td><td>-92.4142</td><td>9</td><td>1</td><td>0</td><td>0</td><td>&quot;Acadia, Louisiana, US&quot;</td></tr><tr><td>2</td><td>51001</td><td>Accomack</td><td>Virginia</td><td>US</td><td>2020-03-28 23:05:37</td><td>37.76707</td><td>-75.63235</td><td>2</td><td>0</td><td>0</td><td>0</td><td>&quot;Accomack, Virginia, US&quot;</td></tr><tr><td>3</td><td>16001</td><td>Ada</td><td>Idaho</td><td>US</td><td>2020-03-28 23:05:37</td><td>43.452656</td><td>-116.241554</td><td>76</td><td>0</td><td>0</td><td>0</td><td>&quot;Ada, Idaho, US&quot;</td></tr><tr><td>4</td><td>19001</td><td>Adair</td><td>Iowa</td><td>US</td><td>2020-03-28 23:05:37</td><td>41.330757</td><td>-94.47106</td><td>1</td><td>0</td><td>0</td><td>0</td><td>&quot;Adair, Iowa, US&quot;</td></tr></tbody></table>"
      ]
     },
     "execution_count": 9,
     "metadata": {},
     "output_type": "execute_result"
    }
   ],
   "source": [
    "covid19Dataframe.Head(5)"
   ]
  },
  {
   "cell_type": "code",
   "execution_count": 10,
   "metadata": {},
   "outputs": [
    {
     "data": {
      "text/html": [
       "<table><thead><th><i>index</i></th><th>FIPS</th><th>Admin2</th><th>Province_State</th><th>Country_Region</th><th>Last_Update</th><th>Lat</th><th>Long_</th><th>Confirmed</th><th>Deaths</th><th>Recovered</th><th>Active</th><th>Combined_Key</th></thead><tbody><tr><td>0</td><td>6099</td><td>Stanislaus</td><td>California</td><td>US</td><td>2020-03-28 23:05:37</td><td>37.558624</td><td>-120.99707</td><td>23</td><td>0</td><td>0</td><td>0</td><td>&quot;Stanislaus, California, US&quot;</td></tr><tr><td>1</td><td>13181</td><td>Lincoln</td><td>Georgia</td><td>US</td><td>2020-03-28 23:05:37</td><td>33.792015</td><td>-82.45024</td><td>3</td><td>0</td><td>0</td><td>0</td><td>&quot;Lincoln, Georgia, US&quot;</td></tr><tr><td>2</td><td>49049</td><td>Utah</td><td>Utah</td><td>US</td><td>2020-03-28 23:05:37</td><td>40.116673</td><td>-111.665764</td><td>30</td><td>0</td><td>0</td><td>0</td><td>&quot;Utah, Utah, US&quot;</td></tr><tr><td>3</td><td>25009</td><td>Essex</td><td>Massachusetts</td><td>US</td><td>2020-03-28 23:05:37</td><td>42.668762</td><td>-70.94687</td><td>472</td><td>3</td><td>0</td><td>0</td><td>&quot;Essex, Massachusetts, US&quot;</td></tr><tr><td>4</td><td>56039</td><td>Teton</td><td>Wyoming</td><td>US</td><td>2020-03-28 23:05:37</td><td>43.935226</td><td>-110.58908</td><td>13</td><td>0</td><td>0</td><td>0</td><td>&quot;Teton, Wyoming, US&quot;</td></tr><tr><td>5</td><td>37155</td><td>Robeson</td><td>North Carolina</td><td>US</td><td>2020-03-28 23:05:37</td><td>34.642445</td><td>-79.10251</td><td>2</td><td>0</td><td>0</td><td>0</td><td>&quot;Robeson, North Carolina, US&quot;</td></tr></tbody></table>"
      ]
     },
     "execution_count": 10,
     "metadata": {},
     "output_type": "execute_result"
    }
   ],
   "source": [
    "covid19Dataframe.Sample(6)"
   ]
  },
  {
   "cell_type": "code",
   "execution_count": 11,
   "metadata": {},
   "outputs": [
    {
     "data": {
      "text/html": [
       "<table><thead><th><i>index</i></th><th>Description</th><th>FIPS</th><th>Lat</th><th>Long_</th><th>Confirmed</th><th>Deaths</th><th>Recovered</th><th>Active</th></thead><tbody><tr><td>0</td><td>Length (excluding null values)</td><td>3148</td><td>3430</td><td>3430</td><td>3430</td><td>3430</td><td>3430</td><td>3430</td></tr><tr><td>1</td><td>Max</td><td>99999</td><td>71.7069</td><td>178.065</td><td>92472</td><td>10023</td><td>62098</td><td>70065</td></tr><tr><td>2</td><td>Min</td><td>0</td><td>-42.8821</td><td>-170.132</td><td>0</td><td>0</td><td>0</td><td>-6</td></tr><tr><td>3</td><td>Mean</td><td>27967.148</td><td>36.889256</td><td>-82.8393</td><td>192.62566</td><td>8.936443</td><td>40.64577</td><td>107.05831</td></tr></tbody></table>"
      ]
     },
     "execution_count": 11,
     "metadata": {},
     "output_type": "execute_result"
    }
   ],
   "source": [
    "covid19Dataframe.Description()"
   ]
  },
  {
   "cell_type": "code",
   "execution_count": 12,
   "metadata": {},
   "outputs": [
    {
     "data": {
      "text/html": [
       "<table><thead><th><i>index</i></th><th>Info</th><th>FIPS</th><th>Admin2</th><th>Province_State</th><th>Country_Region</th><th>Last_Update</th><th>Lat</th><th>Long_</th><th>Confirmed</th><th>Deaths</th><th>Recovered</th><th>Active</th><th>Combined_Key</th></thead><tbody><tr><td>0</td><td>DataType</td><td>System.Single</td><td>System.String</td><td>System.String</td><td>System.String</td><td>System.String</td><td>System.Single</td><td>System.Single</td><td>System.Single</td><td>System.Single</td><td>System.Single</td><td>System.Single</td><td>System.String</td></tr><tr><td>1</td><td>Length (excluding null values)</td><td>3148</td><td>3430</td><td>3430</td><td>3430</td><td>3430</td><td>3430</td><td>3430</td><td>3430</td><td>3430</td><td>3430</td><td>3430</td><td>3430</td></tr></tbody></table>"
      ]
     },
     "execution_count": 12,
     "metadata": {},
     "output_type": "execute_result"
    }
   ],
   "source": [
    "covid19Dataframe.Info()"
   ]
  },
  {
   "cell_type": "markdown",
   "metadata": {},
   "source": [
    "### 5. Data Cleaning"
   ]
  },
  {
   "cell_type": "markdown",
   "metadata": {},
   "source": [
    "#### Remove invalid Active cases"
   ]
  },
  {
   "cell_type": "code",
   "execution_count": 13,
   "metadata": {},
   "outputs": [
    {
     "data": {
      "text/html": [
       "<table><thead><th><i>index</i></th><th>FIPS</th><th>Admin2</th><th>Province_State</th><th>Country_Region</th><th>Last_Update</th><th>Lat</th><th>Long_</th><th>Confirmed</th><th>Deaths</th><th>Recovered</th><th>Active</th><th>Combined_Key</th></thead><tbody><tr><td>0</td><td>&lt;null&gt;</td><td></td><td>Hainan</td><td>China</td><td>2020-03-24 04:29:15</td><td>19.1959</td><td>109.7453</td><td>168</td><td>6</td><td>168</td><td>-6</td><td>&quot;Hainan, China&quot;</td></tr></tbody></table>"
      ]
     },
     "metadata": {},
     "output_type": "display_data"
    }
   ],
   "source": [
    "PrimitiveDataFrameColumn<bool> invalidActiveFilter = covid19Dataframe.Columns[ACTIVE].ElementwiseLessThan(0.0);\n",
    "var invalidActiveDataFrame = covid19Dataframe.Filter(invalidActiveFilter);\n",
    "display(invalidActiveDataFrame)"
   ]
  },
  {
   "cell_type": "markdown",
   "metadata": {},
   "source": [
    "**From above table, we could see some there were 168 confirmed and recovered cases with 6 deaths which seems invalid.\n",
    "Let's remove it in next step**"
   ]
  },
  {
   "cell_type": "code",
   "execution_count": 14,
   "metadata": {},
   "outputs": [
    {
     "data": {
      "text/html": [
       "<table><thead><th><i>index</i></th><th>Description</th><th>FIPS</th><th>Lat</th><th>Long_</th><th>Confirmed</th><th>Deaths</th><th>Recovered</th><th>Active</th></thead><tbody><tr><td>0</td><td>Length (excluding null values)</td><td>3148</td><td>3429</td><td>3429</td><td>3429</td><td>3429</td><td>3429</td><td>3429</td></tr><tr><td>1</td><td>Max</td><td>99999</td><td>71.7069</td><td>178.065</td><td>92472</td><td>10023</td><td>62098</td><td>70065</td></tr><tr><td>2</td><td>Min</td><td>0</td><td>-42.8821</td><td>-170.132</td><td>0</td><td>0</td><td>0</td><td>0</td></tr><tr><td>3</td><td>Mean</td><td>27975.305</td><td>36.894413</td><td>-82.89547</td><td>192.63284</td><td>8.9373</td><td>40.60863</td><td>107.09128</td></tr></tbody></table>"
      ]
     },
     "metadata": {},
     "output_type": "display_data"
    }
   ],
   "source": [
    "PrimitiveDataFrameColumn<bool> activeFilter = covid19Dataframe.Columns[ACTIVE].ElementwiseGreaterThanOrEqual(0.0);\n",
    "covid19Dataframe = covid19Dataframe.Filter(activeFilter);\n",
    "display(covid19Dataframe.Description());"
   ]
  },
  {
   "cell_type": "markdown",
   "metadata": {},
   "source": [
    "**We have removed cases with negative active value. As per above table minimum value for Active cases is zero**"
   ]
  },
  {
   "cell_type": "markdown",
   "metadata": {},
   "source": [
    "### 6. Visualization"
   ]
  },
  {
   "cell_type": "markdown",
   "metadata": {},
   "source": [
    "#### Global"
   ]
  },
  {
   "cell_type": "markdown",
   "metadata": {},
   "source": [
    "##### Collect Data"
   ]
  },
  {
   "cell_type": "code",
   "execution_count": 15,
   "metadata": {},
   "outputs": [],
   "source": [
    "var confirmed = covid19Dataframe.Columns[CONFIRMED];\n",
    "var deaths = covid19Dataframe.Columns[DEATHS];\n",
    "var recovered = covid19Dataframe.Columns[RECOVERED];\n",
    "\n",
    "var totalConfirmed = Convert.ToDouble(confirmed.Sum());\n",
    "var totalDeaths = Convert.ToDouble(deaths.Sum());\n",
    "var totaRecovered = Convert.ToDouble(recovered.Sum());"
   ]
  },
  {
   "cell_type": "markdown",
   "metadata": {},
   "source": [
    "##### Confirmed Vs Deaths Vs Receovered cases"
   ]
  },
  {
   "cell_type": "code",
   "execution_count": 16,
   "metadata": {},
   "outputs": [
    {
     "data": {
      "text/html": [
       "<div id=\"a32a27f8-7f37-45aa-a247-546dd269ada8\" style=\"width: 900px; height: 500px;\"></div><script type=\"text/javascript\">\r\n",
       "\r\n",
       "var renderPlotly = function() {\r\n",
       "    var xplotRequire = requirejs.config({context:'xplot-2.0.0',paths:{plotly:'https://cdn.plot.ly/plotly-1.49.2.min'}});\r\n",
       "    xplotRequire(['plotly'], function(Plotly) {\r\n",
       "\n",
       "            var data = [{\"type\":\"pie\",\"labels\":[\"Confirmed\",\"Deaths\",\"Recovered\"],\"values\":[660538.0,30646.0,139247.0]}];\n",
       "            var layout = \"\";\n",
       "            Plotly.newPlot('a32a27f8-7f37-45aa-a247-546dd269ada8', data, layout);\n",
       "        });\r\n",
       "};\r\n",
       "if ((typeof(requirejs) !==  typeof(Function)) || (typeof(requirejs.config) !== typeof(Function))) { \r\n",
       "    var script = document.createElement(\"script\"); \r\n",
       "    script.setAttribute(\"src\", \"https://cdnjs.cloudflare.com/ajax/libs/require.js/2.3.6/require.min.js\"); \r\n",
       "    script.onload = function(){\r\n",
       "        renderPlotly();\r\n",
       "    };\r\n",
       "    document.getElementsByTagName(\"head\")[0].appendChild(script); \r\n",
       "}\r\n",
       "else {\r\n",
       "    renderPlotly();\r\n",
       "}\r\n",
       "</script>"
      ]
     },
     "metadata": {},
     "output_type": "display_data"
    }
   ],
   "source": [
    "display(Chart.Plot(\n",
    "    new Graph.Pie()\n",
    "    {\n",
    "        values = new double[]{totalConfirmed, totalDeaths, totaRecovered},\n",
    "        labels = new string[] {CONFIRMED, DEATHS, RECOVERED}\n",
    "    }\n",
    "));"
   ]
  },
  {
   "cell_type": "markdown",
   "metadata": {},
   "source": [
    "##### Top 5 Countries with Confirmed cases"
   ]
  },
  {
   "cell_type": "code",
   "execution_count": 17,
   "metadata": {},
   "outputs": [],
   "source": [
    "// Get the data\n",
    "var countryConfirmedGroup = covid19Dataframe.GroupBy(COUNTRY).Sum(CONFIRMED).OrderByDescending(CONFIRMED);\n",
    "var topCountriesColumn = countryConfirmedGroup.Columns[COUNTRY];\n",
    "var topConfirmedCasesByCountry = countryConfirmedGroup.Columns[CONFIRMED];\n",
    "\n",
    "HashSet<string> countries = new HashSet<string>(TOP_COUNT);\n",
    "HashSet<long> confirmedCases = new HashSet<long>(TOP_COUNT);\n",
    "for(int index = 0; index < TOP_COUNT; index++)\n",
    "{\n",
    "    countries.Add(topCountriesColumn[index].ToString());\n",
    "    confirmedCases.Add(Convert.ToInt64(topConfirmedCasesByCountry[index]));\n",
    "}"
   ]
  },
  {
   "cell_type": "code",
   "execution_count": 18,
   "metadata": {},
   "outputs": [
    {
     "data": {
      "text/html": [
       "<div id=\"5dc5d2d4-3e7f-4a72-95da-dacb8465b28c\" style=\"width: 900px; height: 500px;\"></div><script type=\"text/javascript\">\r\n",
       "\r\n",
       "var renderPlotly = function() {\r\n",
       "    var xplotRequire = requirejs.config({context:'xplot-2.0.0',paths:{plotly:'https://cdn.plot.ly/plotly-1.49.2.min'}});\r\n",
       "    xplotRequire(['plotly'], function(Plotly) {\r\n",
       "\n",
       "            var data = [{\"type\":\"bar\",\"x\":[\"US\",\"Italy\",\"China\",\"Spain\",\"Germany\"],\"y\":[121478,92472,81831,73235,57695]}];\n",
       "            var layout = {\"title\":\"Top 5 Countries : Confirmed\"};\n",
       "            Plotly.newPlot('5dc5d2d4-3e7f-4a72-95da-dacb8465b28c', data, layout);\n",
       "        });\r\n",
       "};\r\n",
       "if ((typeof(requirejs) !==  typeof(Function)) || (typeof(requirejs.config) !== typeof(Function))) { \r\n",
       "    var script = document.createElement(\"script\"); \r\n",
       "    script.setAttribute(\"src\", \"https://cdnjs.cloudflare.com/ajax/libs/require.js/2.3.6/require.min.js\"); \r\n",
       "    script.onload = function(){\r\n",
       "        renderPlotly();\r\n",
       "    };\r\n",
       "    document.getElementsByTagName(\"head\")[0].appendChild(script); \r\n",
       "}\r\n",
       "else {\r\n",
       "    renderPlotly();\r\n",
       "}\r\n",
       "</script>"
      ]
     },
     "metadata": {},
     "output_type": "display_data"
    }
   ],
   "source": [
    "var title = \"Top 5 Countries : Confirmed\";\n",
    "var series1 = new Graph.Bar{\n",
    "        x = countries.ToArray(),\n",
    "        y = confirmedCases.ToArray()\n",
    "    };\n",
    "\n",
    "var chart = Chart.Plot(new []{series1});\n",
    "chart.WithTitle(title);\n",
    "display(chart);"
   ]
  },
  {
   "cell_type": "markdown",
   "metadata": {},
   "source": [
    "##### Top 5 Countries with Deaths"
   ]
  },
  {
   "cell_type": "code",
   "execution_count": 19,
   "metadata": {},
   "outputs": [],
   "source": [
    "// Get the data\n",
    "var countryDeathsGroup = covid19Dataframe.GroupBy(COUNTRY).Sum(DEATHS).OrderByDescending(DEATHS);\n",
    "var topCountriesColumn = countryDeathsGroup.Columns[COUNTRY];\n",
    "var topDeathCasesByCountry = countryDeathsGroup.Columns[DEATHS];\n",
    "\n",
    "HashSet<string> countries = new HashSet<string>(TOP_COUNT);\n",
    "HashSet<long> deathCases = new HashSet<long>(TOP_COUNT);\n",
    "for(int index = 0; index < TOP_COUNT; index++)\n",
    "{\n",
    "    countries.Add(topCountriesColumn[index].ToString());\n",
    "    deathCases.Add(Convert.ToInt64(topDeathCasesByCountry[index]));\n",
    "}"
   ]
  },
  {
   "cell_type": "code",
   "execution_count": 20,
   "metadata": {},
   "outputs": [
    {
     "data": {
      "text/html": [
       "<div id=\"a3c63b0c-ba5a-4030-950f-15fb96dc62ca\" style=\"width: 900px; height: 500px;\"></div><script type=\"text/javascript\">\r\n",
       "\r\n",
       "var renderPlotly = function() {\r\n",
       "    var xplotRequire = requirejs.config({context:'xplot-2.0.0',paths:{plotly:'https://cdn.plot.ly/plotly-1.49.2.min'}});\r\n",
       "    xplotRequire(['plotly'], function(Plotly) {\r\n",
       "\n",
       "            var data = [{\"type\":\"bar\",\"x\":[\"Italy\",\"Spain\",\"China\",\"Iran\",\"France\"],\"y\":[10023,5982,3293,2517,2317]}];\n",
       "            var layout = {\"title\":\"Top 5 Countries : Deaths\"};\n",
       "            Plotly.newPlot('a3c63b0c-ba5a-4030-950f-15fb96dc62ca', data, layout);\n",
       "        });\r\n",
       "};\r\n",
       "if ((typeof(requirejs) !==  typeof(Function)) || (typeof(requirejs.config) !== typeof(Function))) { \r\n",
       "    var script = document.createElement(\"script\"); \r\n",
       "    script.setAttribute(\"src\", \"https://cdnjs.cloudflare.com/ajax/libs/require.js/2.3.6/require.min.js\"); \r\n",
       "    script.onload = function(){\r\n",
       "        renderPlotly();\r\n",
       "    };\r\n",
       "    document.getElementsByTagName(\"head\")[0].appendChild(script); \r\n",
       "}\r\n",
       "else {\r\n",
       "    renderPlotly();\r\n",
       "}\r\n",
       "</script>"
      ]
     },
     "metadata": {},
     "output_type": "display_data"
    }
   ],
   "source": [
    "var title = \"Top 5 Countries : Deaths\";\n",
    "var series1 = new Graph.Bar{\n",
    "        x = countries.ToArray(),\n",
    "        y = deathCases.ToArray()\n",
    "    };\n",
    "\n",
    "var chart = Chart.Plot(new []{series1});\n",
    "chart.WithTitle(title);\n",
    "display(chart);"
   ]
  },
  {
   "cell_type": "markdown",
   "metadata": {},
   "source": [
    "##### Top 5 Countries with Recovered cases"
   ]
  },
  {
   "cell_type": "code",
   "execution_count": 21,
   "metadata": {},
   "outputs": [],
   "source": [
    "// Get the data\n",
    "var countryRecoveredGroup = covid19Dataframe.GroupBy(COUNTRY).Sum(RECOVERED).OrderByDescending(RECOVERED);\n",
    "var topCountriesColumn = countryRecoveredGroup.Columns[COUNTRY];\n",
    "var topRecoveredCasesByCountry = countryRecoveredGroup.Columns[RECOVERED];\n",
    "\n",
    "HashSet<string> countries = new HashSet<string>(TOP_COUNT);\n",
    "HashSet<long> recoveredCases = new HashSet<long>(TOP_COUNT);\n",
    "for(int index = 0; index < TOP_COUNT; index++)\n",
    "{\n",
    "    countries.Add(topCountriesColumn[index].ToString());\n",
    "    recoveredCases.Add(Convert.ToInt64(topRecoveredCasesByCountry[index]));\n",
    "}"
   ]
  },
  {
   "cell_type": "code",
   "execution_count": 22,
   "metadata": {},
   "outputs": [
    {
     "data": {
      "text/html": [
       "<div id=\"4eaf4cb3-b4f6-43b7-b8e4-a1f2391e30fe\" style=\"width: 900px; height: 500px;\"></div><script type=\"text/javascript\">\r\n",
       "\r\n",
       "var renderPlotly = function() {\r\n",
       "    var xplotRequire = requirejs.config({context:'xplot-2.0.0',paths:{plotly:'https://cdn.plot.ly/plotly-1.49.2.min'}});\r\n",
       "    xplotRequire(['plotly'], function(Plotly) {\r\n",
       "\n",
       "            var data = [{\"type\":\"bar\",\"x\":[\"China\",\"Italy\",\"Spain\",\"Iran\",\"Germany\"],\"y\":[74932,12384,12285,11679,8481]}];\n",
       "            var layout = {\"title\":\"Top 5 Countries : Recovered\"};\n",
       "            Plotly.newPlot('4eaf4cb3-b4f6-43b7-b8e4-a1f2391e30fe', data, layout);\n",
       "        });\r\n",
       "};\r\n",
       "if ((typeof(requirejs) !==  typeof(Function)) || (typeof(requirejs.config) !== typeof(Function))) { \r\n",
       "    var script = document.createElement(\"script\"); \r\n",
       "    script.setAttribute(\"src\", \"https://cdnjs.cloudflare.com/ajax/libs/require.js/2.3.6/require.min.js\"); \r\n",
       "    script.onload = function(){\r\n",
       "        renderPlotly();\r\n",
       "    };\r\n",
       "    document.getElementsByTagName(\"head\")[0].appendChild(script); \r\n",
       "}\r\n",
       "else {\r\n",
       "    renderPlotly();\r\n",
       "}\r\n",
       "</script>"
      ]
     },
     "metadata": {},
     "output_type": "display_data"
    }
   ],
   "source": [
    "var title = \"Top 5 Countries : Recovered\";\n",
    "var series1 = new Graph.Bar{\n",
    "        x = countries.ToArray(),\n",
    "        y = recoveredCases.ToArray()\n",
    "    };\n",
    "\n",
    "var chart = Chart.Plot(new []{series1});\n",
    "chart.WithTitle(title);\n",
    "display(chart);"
   ]
  },
  {
   "cell_type": "markdown",
   "metadata": {},
   "source": [
    "#### India"
   ]
  },
  {
   "cell_type": "markdown",
   "metadata": {},
   "source": [
    "##### Collect Data"
   ]
  },
  {
   "cell_type": "markdown",
   "metadata": {},
   "source": [
    "##### Confirmed Vs Deaths Vs Receovered cases"
   ]
  },
  {
   "cell_type": "code",
   "execution_count": 23,
   "metadata": {},
   "outputs": [
    {
     "data": {
      "text/html": [
       "<table><thead><th><i>index</i></th><th>FIPS</th><th>Admin2</th><th>Province_State</th><th>Country_Region</th><th>Last_Update</th><th>Lat</th><th>Long_</th><th>Confirmed</th><th>Deaths</th><th>Recovered</th><th>Active</th><th>Combined_Key</th></thead><tbody><tr><td>0</td><td>&lt;null&gt;</td><td></td><td></td><td>India</td><td>2020-03-28 23:05:25</td><td>20.593683</td><td>78.96288</td><td>987</td><td>24</td><td>84</td><td>879</td><td>India</td></tr></tbody></table>"
      ]
     },
     "metadata": {},
     "output_type": "display_data"
    }
   ],
   "source": [
    "PrimitiveDataFrameColumn<bool> indiaFilter = covid19Dataframe.Columns[COUNTRY].ElementwiseEquals(INDIA);\n",
    "var indiaDataFrame = covid19Dataframe.Filter(indiaFilter);\n",
    "display(indiaDataFrame.Head((int)indiaDataFrame.Rows.Count));\n",
    "            \n",
    "var indiaConfirmed = indiaDataFrame.Columns[CONFIRMED];\n",
    "var indiaDeaths = indiaDataFrame.Columns[DEATHS];\n",
    "var indiaRecovered = indiaDataFrame.Columns[RECOVERED];\n",
    "\n",
    "var indiaTotalConfirmed = Convert.ToDouble(indiaConfirmed.Sum());\n",
    "var indiaTotalDeaths = Convert.ToDouble(indiaDeaths.Sum());\n",
    "var indiaTotaRecovered = Convert.ToDouble(indiaRecovered.Sum());"
   ]
  },
  {
   "cell_type": "code",
   "execution_count": 24,
   "metadata": {},
   "outputs": [
    {
     "data": {
      "text/html": [
       "<div id=\"bbfd8a2c-8c9f-419f-a34d-9cb99acb170d\" style=\"width: 900px; height: 500px;\"></div><script type=\"text/javascript\">\r\n",
       "\r\n",
       "var renderPlotly = function() {\r\n",
       "    var xplotRequire = requirejs.config({context:'xplot-2.0.0',paths:{plotly:'https://cdn.plot.ly/plotly-1.49.2.min'}});\r\n",
       "    xplotRequire(['plotly'], function(Plotly) {\r\n",
       "\n",
       "            var data = [{\"type\":\"pie\",\"labels\":[\"Confirmed\",\"Deaths\",\"Recovered\"],\"values\":[987.0,24.0,84.0]}];\n",
       "            var layout = \"\";\n",
       "            Plotly.newPlot('bbfd8a2c-8c9f-419f-a34d-9cb99acb170d', data, layout);\n",
       "        });\r\n",
       "};\r\n",
       "if ((typeof(requirejs) !==  typeof(Function)) || (typeof(requirejs.config) !== typeof(Function))) { \r\n",
       "    var script = document.createElement(\"script\"); \r\n",
       "    script.setAttribute(\"src\", \"https://cdnjs.cloudflare.com/ajax/libs/require.js/2.3.6/require.min.js\"); \r\n",
       "    script.onload = function(){\r\n",
       "        renderPlotly();\r\n",
       "    };\r\n",
       "    document.getElementsByTagName(\"head\")[0].appendChild(script); \r\n",
       "}\r\n",
       "else {\r\n",
       "    renderPlotly();\r\n",
       "}\r\n",
       "</script>"
      ]
     },
     "metadata": {},
     "output_type": "display_data"
    }
   ],
   "source": [
    "display(Chart.Plot(\n",
    "    new Graph.Pie()\n",
    "    {\n",
    "        values = new double[]{indiaTotalConfirmed, indiaTotalDeaths, indiaTotaRecovered},\n",
    "        labels = new string[] {CONFIRMED, DEATHS, RECOVERED}\n",
    "    }\n",
    "));"
   ]
  },
  {
   "cell_type": "markdown",
   "metadata": {},
   "source": [
    "## References\n",
    "- [Using ML.NET in Jupyter notebooks](https://devblogs.microsoft.com/cesardelatorre/using-ml-net-in-jupyter-notebooks/)\n",
    "- [An Introduction to DataFrame](https://devblogs.microsoft.com/dotnet/an-introduction-to-dataframe/)\n",
    "- [DataFrame - Sample](https://github.com/dotnet/interactive/blob/master/NotebookExamples/csharp/Samples/HousingML.ipynb)\n",
    "- [Getting started with ML.NET in Jupyter Notebooks](https://xamlbrewer.wordpress.com/2020/02/20/getting-started-with-ml-net-in-jupyter-notebooks/)\n",
    "- [Tips and tricks for C# Jupyter notebook](https://ewinnington.github.io/posts/jupyter-tips-csharp)"
   ]
  },
  {
   "cell_type": "markdown",
   "metadata": {},
   "source": [
    "#  ******************** Be Safe **********************"
   ]
  }
 ],
 "metadata": {
  "kernelspec": {
   "display_name": ".NET (C#)",
   "language": "C#",
   "name": ".net-csharp"
  },
  "language_info": {
   "file_extension": ".cs",
   "mimetype": "text/x-csharp",
   "name": "C#",
   "pygments_lexer": "csharp",
   "version": "8.0"
  }
 },
 "nbformat": 4,
 "nbformat_minor": 2
}
