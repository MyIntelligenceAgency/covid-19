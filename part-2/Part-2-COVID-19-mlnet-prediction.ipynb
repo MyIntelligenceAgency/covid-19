{
 "cells": [
  {
   "cell_type": "markdown",
   "metadata": {},
   "source": [
    "# Part - 2: COVID-19 Time Series Analysis and Prediction using ML.Net framework"
   ]
  },
  {
   "cell_type": "markdown",
   "metadata": {},
   "source": [
    "## COVID-19\n",
    "- As per [Wiki](https://en.wikipedia.org/wiki/Coronavirus_disease_2019) **Coronavirus disease 2019** (**COVID-19**) is an infectious disease caused by severe acute respiratory syndrome coronavirus 2 (SARS-CoV-2). The disease was first identified in 2019 in Wuhan, the capital of China's Hubei province, and has since spread globally, resulting in the ongoing 2019–20 coronavirus pandemic.\n",
    "- The virus had caused a pandemic across the globe and spreading/affecting most of the nations. \n",
    "- The purpose of notebook is to visualize the trends of virus spread in various countries and explore features present in ML.Net such as DataFrame."
   ]
  },
  {
   "cell_type": "markdown",
   "metadata": {},
   "source": [
    "### Acknowledgement\n",
    "- [Johns Hopkins CSSE](https://github.com/CSSEGISandData/COVID-19/raw/master/csse_covid_19_data) for dataset\n",
    "- [COVID-19 data visualization](https://www.kaggle.com/akshaysb/covid-19-data-visualization) by Akshay Sb"
   ]
  },
  {
   "cell_type": "markdown",
   "metadata": {},
   "source": [
    "### Dataset\n",
    "\n",
    "- [2019 Novel Coronavirus COVID-19 (2019-nCoV) Data Repository by Johns Hopkins CSSE - Time Series](https://github.com/CSSEGISandData/COVID-19/tree/master/csse_covid_19_data/csse_covid_19_time_series)."
   ]
  },
  {
   "cell_type": "markdown",
   "metadata": {},
   "source": [
    "### Introduction \n",
    "\n",
    "This is **Part-2** of our analysis on the COVID-19 dataset provided by Johns Hopkins CSSE. In [**Part-1**](https://github.com/praveenraghuvanshi1512/TechnicalSessions/tree/31052020-virtualmlnet/31052020-virtualmlnet/src/part-1), I did data analysis on the dataset and created some tables and plots for getting insights from it. In Part-2, I'll focus on applying machine learning for making a prediction using time-series API's provided by ML.Net framework. I'll be building a model from scratch on the number of confirmed cases and predicting for the next 7 days. Later on, I'll plot these numbers for better visualization.\n",
    "\n",
    "[**ML.Net**](https://dotnet.microsoft.com/apps/machinelearning-ai/ml-dotnet) is a cross-platform framework from Microsoft for developing Machine learning models in the .Net ecosystem. It allows .Net developers to solve business problems using machine learning algorithms leveraging their preferred language such as C#/F#. It's highly scalable and used within Microsoft in many of its products such as Bing, Powerpoint, etc.\n",
    "\n",
    "**Disclaimer**: This is an exercise to explore different features present in ML.Net. The actual and predicted numbers might vary due to several factors such as size and features in a dataset."
   ]
  },
  {
   "cell_type": "markdown",
   "metadata": {},
   "source": [
    "### Summary\n",
    "\n",
    "Below is the summary of steps we'll be performing\n",
    "\n",
    "1. Define application level items\n",
    "    - Nuget packages\n",
    "    - Namespaces\n",
    "    - Constants\n",
    "     \n",
    "2. Utility Functions\n",
    "    - Formatters    \n",
    "\n",
    "3. Dataset and Transformations\n",
    "    - Actual from [Johns Hopkins CSSE](https://github.com/CSSEGISandData/COVID-19/blob/master/csse_covid_19_data/csse_covid_19_time_series)\n",
    "    - Transformed [time_series_covid19_confirmed_global_transposed.csv](time_series_covid19_confirmed_global_transposed.csv)\n",
    "    \n",
    "4. Data Classes\n",
    "    - ConfirmedData : Provides a map between columns in a dataset\n",
    "    - ConfirmedForecast : Holds predicted values\n",
    "\n",
    "5. Data Analysis\n",
    "    - Visualize Data using DataFrame API\n",
    "    - Display Top 10 Rows - dataframe.Head(10)\n",
    "    - Display Last 10 Rows - dataframe.Tail(10)\n",
    "    - Display Dataset Statistics - dataframe.Description()\n",
    "    - Plot of TotalConfimed cases vs Date\n",
    "\n",
    "6. Load Data - MLContext\n",
    "7. ML Pipeline\n",
    "8. Train Model\n",
    "9. Evaluate Model\n",
    "10. Save Model\n",
    "11. Prediction/Forecasting\n",
    "12. Prediction Visualization\n",
    "13. Prediction Analysis\n",
    "14. Conclusion\n",
    "\n",
    "**Note** : Graphs/Plots may not render in GitHub due to secutiry reasons, however if you run this notebook locally/binder they will render."
   ]
  },
  {
   "cell_type": "code",
   "execution_count": 1,
   "metadata": {},
   "outputs": [
    {
     "data": {
      "text/html": [
       "<script type=\"text/javascript\">#!javascript\r\n",
       "if ((typeof(requirejs) !==  typeof(Function)) || (typeof(requirejs.config) !== typeof(Function))) { \r\n",
       "    let script = document.createElement(\"script\"); \r\n",
       "    script.setAttribute(\"src\", \"https://cdnjs.cloudflare.com/ajax/libs/require.js/2.3.6/require.min.js\"); \r\n",
       "    script.onload = function(){\r\n",
       "        loadDotnetInteractiveApi();\r\n",
       "    };\r\n",
       "    document.getElementsByTagName(\"head\")[0].appendChild(script); \r\n",
       "}\r\n",
       "else {\r\n",
       "    loadDotnetInteractiveApi();\r\n",
       "}\r\n",
       "\r\n",
       "function loadDotnetInteractiveApi(){\r\n",
       "    let apiRequire = requirejs.config({context:\"dotnet-interactive.19980.53046\",paths:{dotnetInteractive:\"http://localhost:53046/resources/dotnet-interactive\"}});\r\n",
       "    apiRequire(['dotnetInteractive'], \r\n",
       "    function(api) {       \r\n",
       "        api.createDotnetInteractiveClient(\"http://localhost:53046/\", window);\r\n",
       "    },\r\n",
       "    function(error){\r\n",
       "        console.log(error);\r\n",
       "    });\r\n",
       "}</script>"
      ]
     },
     "metadata": {},
     "output_type": "display_data"
    },
    {
     "data": {
      "text/html": [
       "<table><tbody><tr><td><img src=\"https://raw.githubusercontent.com/dotnet/swag/master/netlogo/small-200x198/pngs/msft.net_small_purple.png\" width=\"125em\"></img></td><td style=\"line-height:.8em\"><p style=\"font-size:1.5em\"><b>.NET Interactive</b></p><p>&#169; 2020 Microsoft Corporation</p><p><b>Version: </b>1.0.115407+d247e88f3f756abad4bd16b47cf8cde187aafabc</p><p><b>Build date: </b>2020-07-14T23:05:06.5944002Z</p><p><a href=\"https://github.com/dotnet/interactive\">https://github.com/dotnet/interactive</a></p></td></tr></tbody></table>"
      ]
     },
     "metadata": {},
     "output_type": "display_data"
    }
   ],
   "source": [
    "#!about"
   ]
  },
  {
   "cell_type": "markdown",
   "metadata": {},
   "source": [
    "### 1. Define Application wide Items"
   ]
  },
  {
   "cell_type": "markdown",
   "metadata": {},
   "source": [
    "#### Nuget Packages\n"
   ]
  },
  {
   "cell_type": "code",
   "execution_count": 2,
   "metadata": {
    "execution": {
     "iopub.execute_input": "2020-05-28T22:23:13.710Z",
     "iopub.status.busy": "2020-05-28T22:23:13.688Z",
     "iopub.status.idle": "2020-05-28T22:23:23.404Z"
    }
   },
   "outputs": [
    {
     "data": {
      "text/html": [
       "Installed package Microsoft.ML version 1.5.1"
      ]
     },
     "metadata": {},
     "output_type": "display_data"
    },
    {
     "data": {
      "text/html": [
       "Installed package Microsoft.Data.Analysis version 0.4.0"
      ]
     },
     "metadata": {},
     "output_type": "display_data"
    },
    {
     "data": {
      "text/html": [
       "Installed package XPlot.Plotly version 3.0.1"
      ]
     },
     "metadata": {},
     "output_type": "display_data"
    },
    {
     "data": {
      "text/html": [
       "Installed package Microsoft.ML.TimeSeries version 1.5.1"
      ]
     },
     "metadata": {},
     "output_type": "display_data"
    }
   ],
   "source": [
    "// ML.NET Nuget packages installation\n",
    "#r \"nuget:Microsoft.ML\"\n",
    "#r \"nuget:Microsoft.ML.TimeSeries\"\n",
    "#r \"nuget:Microsoft.Data.Analysis\"\n",
    "\n",
    "// Install XPlot package\n",
    "#r \"nuget:XPlot.Plotly\""
   ]
  },
  {
   "cell_type": "markdown",
   "metadata": {},
   "source": [
    "#### Namespaces"
   ]
  },
  {
   "cell_type": "code",
   "execution_count": 3,
   "metadata": {
    "execution": {
     "iopub.execute_input": "2020-05-28T22:23:27.823Z",
     "iopub.status.busy": "2020-05-28T22:23:27.805Z",
     "iopub.status.idle": "2020-05-28T22:23:27.845Z"
    }
   },
   "outputs": [],
   "source": [
    "using System;\n",
    "using System.Collections.Generic;\n",
    "using System.Linq;\n",
    "using Microsoft.ML;\n",
    "using Microsoft.ML.Data;\n",
    "using Microsoft.Data.Analysis;\n",
    "using Microsoft.ML.Transforms.TimeSeries;\n",
    "using Microsoft.AspNetCore.Html;\n",
    "using XPlot.Plotly;"
   ]
  },
  {
   "cell_type": "markdown",
   "metadata": {},
   "source": [
    "#### Constants"
   ]
  },
  {
   "cell_type": "code",
   "execution_count": 4,
   "metadata": {
    "execution": {
     "iopub.execute_input": "2020-05-28T22:23:33.567Z",
     "iopub.status.busy": "2020-05-28T22:23:33.552Z",
     "iopub.status.idle": "2020-05-28T22:23:33.589Z"
    }
   },
   "outputs": [],
   "source": [
    "const string CONFIRMED_DATASET_FILE = \"time_series_covid19_confirmed_global_transposed.csv\";\n",
    "const string MODEL_PATH = \"model.zip\";\n",
    "const double SPLIT_RATIO = 0.94;\n",
    "\n",
    "// Forecast API\n",
    "const int WINDOW_SIZE = 7;\n",
    "const int SERIES_LENGTH = 30;\n",
    "const int HORIZON = 7;\n",
    "const float CONFIDENCE_LEVEL = 0.95f;\n",
    "\n",
    "// Dataset\n",
    "const int DEFAULT_ROW_COUNT = 10;\n",
    "const string TOTAL_CONFIRMED_COLUMN = \"TotalConfirmed\";\n",
    "const string DATE_COLUMN = \"Date\";"
   ]
  },
  {
   "cell_type": "markdown",
   "metadata": {},
   "source": [
    "### 2. Utility Functions"
   ]
  },
  {
   "cell_type": "markdown",
   "metadata": {},
   "source": [
    "#### Formatters\n",
    "\n",
    "By default the output of DataFrame is not proper and in order to display it as a table, we need to have a custom formatter implemented as shown in next cell. "
   ]
  },
  {
   "cell_type": "code",
   "execution_count": 5,
   "metadata": {
    "execution": {
     "iopub.execute_input": "2020-05-28T22:23:35.628Z",
     "iopub.status.busy": "2020-05-28T22:23:35.612Z",
     "iopub.status.idle": "2020-05-28T22:23:36.344Z"
    }
   },
   "outputs": [],
   "source": [
    "Formatter<DataFrame>.Register((df, writer) =>\n",
    "{\n",
    "    var headers = new List<IHtmlContent>();\n",
    "    headers.Add(th(i(\"index\")));\n",
    "    headers.AddRange(df.Columns.Select(c => (IHtmlContent) th(c.Name)));\n",
    "    var rows = new List<List<IHtmlContent>>();\n",
    "    var take = DEFAULT_ROW_COUNT;\n",
    "    for (var i = 0; i < Math.Min(take, df.Rows.Count); i++)\n",
    "    {\n",
    "        var cells = new List<IHtmlContent>();\n",
    "        cells.Add(td(i));\n",
    "        foreach (var obj in df.Rows[i])\n",
    "        {\n",
    "            cells.Add(td(obj));\n",
    "        }\n",
    "        rows.Add(cells);\n",
    "    }\n",
    "\n",
    "    var t = table(\n",
    "        thead(\n",
    "            headers),\n",
    "        tbody(\n",
    "            rows.Select(\n",
    "                r => tr(r))));\n",
    "\n",
    "    writer.Write(t);\n",
    "}, \"text/html\");"
   ]
  },
  {
   "cell_type": "markdown",
   "metadata": {},
   "source": [
    "### 3. Dataset and Transformations"
   ]
  },
  {
   "cell_type": "markdown",
   "metadata": {},
   "source": [
    "#### Download Dataset\n",
    "- Actual Dataset: [Johns Hopkins CSSE](https://github.com/CSSEGISandData/COVID-19/blob/master/csse_covid_19_data/csse_covid_19_time_series)\n",
    "- Transformed Dataset: [time_series_covid19_confirmed_global_transposed.csv](time_series_covid19_confirmed_global_transposed.csv)\n",
    "\n",
    "\n",
    "I'll be using COVID-19 time series dataset from [Johns Hopkins CSSE](https://github.com/CSSEGISandData/COVID-19/blob/master/csse_covid_19_data/csse_covid_19_time_series) and will be performing predictions using **time_series_covid19_confirmed_global.csv** file.\n",
    "\n",
    "The data present in these files have name of the countries as Rows and dates as columns which makes it difficult to map to our classes while loading data from csv. Also, it contains data per country wise. In order to keep things simple I'll work with global count of COVID-19 cases and not specific country.\n",
    "\n",
    "I have done few transformations to the dataset as below and created transformed csv's\n",
    "- Sum cases from all the countries for a specific date\n",
    "- Just have two rows with Date and Total \n",
    "- Applied transformation to the csv for converting Rows into Columns and vice-versa. [Refer](https://support.office.com/en-us/article/transpose-rotate-data-from-rows-to-columns-or-vice-versa-3419f2e3-beab-4318-aae5-d0f862209744) for transformation.\n",
    "- Below transposed files have been saved in the current github directory. There is no change in dataset. The files have data till 05-27-2020\n",
    "    - [time_series_covid19_confirmed_global_transposed.csv](time_series_covid19_confirmed_global_transposed.csv) : Columns - **Date, TotalConfirmed**"
   ]
  },
  {
   "cell_type": "markdown",
   "metadata": {},
   "source": [
    "##### Before transformation\n",
    "\n",
    "<img src=\".\\assets\\time-series-before-transformation.png\" alt=\"Time Series data before transofmation\" style=\"zoom: 80%;\" />"
   ]
  },
  {
   "cell_type": "markdown",
   "metadata": {},
   "source": [
    "#### After transformation\n",
    "\n",
    "<img src=\".\\assets\\time-series-after-transformation.png\" alt=\"Time Series data after transofmation\" style=\"zoom: 80%;\" />"
   ]
  },
  {
   "cell_type": "markdown",
   "metadata": {},
   "source": [
    "### 4. Data Classes"
   ]
  },
  {
   "cell_type": "markdown",
   "metadata": {},
   "source": [
    "Now, we need to create few data structures to map to columns within our dataset."
   ]
  },
  {
   "cell_type": "markdown",
   "metadata": {},
   "source": [
    "#### Confirmed cases"
   ]
  },
  {
   "cell_type": "code",
   "execution_count": 6,
   "metadata": {
    "execution": {
     "iopub.execute_input": "2020-05-28T22:23:38.646Z",
     "iopub.status.busy": "2020-05-28T22:23:38.631Z",
     "iopub.status.idle": "2020-05-28T22:23:38.863Z"
    }
   },
   "outputs": [],
   "source": [
    "/// <summary>\n",
    "/// Represent data for confirmed cases with a mapping to columns in a dataset\n",
    "/// </summary>\n",
    "public class ConfirmedData\n",
    "{\n",
    "    /// <summary>\n",
    "    /// Date of confirmed case\n",
    "    /// </summary>\n",
    "    [LoadColumn(0)]\n",
    "    public DateTime Date;\n",
    "\n",
    "    /// <summary>\n",
    "    /// Total no of confirmed cases on a particular date\n",
    "    /// </summary>\n",
    "    [LoadColumn(1)]\n",
    "    public float TotalConfirmed;\n",
    "}"
   ]
  },
  {
   "cell_type": "code",
   "execution_count": 7,
   "metadata": {
    "execution": {
     "iopub.execute_input": "2020-05-28T22:23:38.947Z",
     "iopub.status.busy": "2020-05-28T22:23:38.931Z",
     "iopub.status.idle": "2020-05-28T22:23:39.013Z"
    }
   },
   "outputs": [],
   "source": [
    "/// <summary>\n",
    "/// Prediction/Forecast for Confirmed cases\n",
    "/// </summary>\n",
    "internal class ConfirmedForecast\n",
    "{\n",
    "    /// <summary>\n",
    "    /// No of predicted confirmed cases for multiple days\n",
    "    /// </summary>\n",
    "    public float[] Forecast { get; set; }\n",
    "    \n",
    "    /// <summary>\n",
    "    /// The predicted minimum values for the forecasted period.\n",
    "    /// </summary>\n",
    "    public float[] LowerBoundConfirmed { get; set; }\n",
    "\n",
    "    /// <summary>\n",
    "    /// The predicted maximum values for the forecasted period.\n",
    "    /// </summary>\n",
    "    public float[] UpperBoundConfirmed { get; set; }\n",
    "}"
   ]
  },
  {
   "cell_type": "code",
   "execution_count": 8,
   "metadata": {},
   "outputs": [],
   "source": [
    "/// <summary>\n",
    "/// Represents the output to be used for display\n",
    "/// </summary>\n",
    "public class ForecastOutput\n",
    "{\n",
    "    /// <summary>\n",
    "    /// Date of confirmed case\n",
    "    /// </summary>\n",
    "    public DateTime Date { get; set; }\n",
    "\n",
    "    /// <summary>\n",
    "    /// Number of actual confirmed cases\n",
    "    /// </summary>\n",
    "    public float ActualConfirmed { get; set; }\n",
    "\n",
    "    /// <summary>\n",
    "    /// Lower bound confirmed cases\n",
    "    /// </summary>\n",
    "    public float LowerEstimate { get; set; }\n",
    "\n",
    "    /// <summary>\n",
    "    /// Predicted confirmed cases\n",
    "    /// </summary>\n",
    "    public float Forecast { get; set; }\n",
    "\n",
    "    /// <summary>\n",
    "    /// Upper bound confirmed cases\n",
    "    /// </summary>\n",
    "    public float UpperEstimate { get; set; }\n",
    "}"
   ]
  },
  {
   "cell_type": "markdown",
   "metadata": {},
   "source": [
    "### 5. Data Analysis"
   ]
  },
  {
   "cell_type": "markdown",
   "metadata": {},
   "source": [
    "For loading data from csv, first we need to create MLContext that acts as a starting point for creating a machine learning model in ML.Net. Few things to note\n",
    "- Set hasHeader as true as our dataset has header\n",
    "- Add separatorChar to ',' as its a csv"
   ]
  },
  {
   "cell_type": "markdown",
   "metadata": {},
   "source": [
    "#### Visualize Data - DataFrame"
   ]
  },
  {
   "cell_type": "code",
   "execution_count": 9,
   "metadata": {
    "execution": {
     "iopub.execute_input": "2020-05-28T22:23:40.991Z",
     "iopub.status.busy": "2020-05-28T22:23:40.974Z",
     "iopub.status.idle": "2020-05-28T22:23:41.030Z"
    }
   },
   "outputs": [],
   "source": [
    "var predictedDf = DataFrame.LoadCsv(CONFIRMED_DATASET_FILE);"
   ]
  },
  {
   "cell_type": "code",
   "execution_count": 10,
   "metadata": {
    "execution": {
     "iopub.execute_input": "2020-05-28T22:23:41.465Z",
     "iopub.status.busy": "2020-05-28T22:23:41.452Z",
     "iopub.status.idle": "2020-05-28T22:23:41.698Z"
    }
   },
   "outputs": [
    {
     "data": {
      "text/html": [
       "<table><thead><th><i>index</i></th><th>Date</th><th>TotalConfirmed</th></thead><tbody><tr><td>0</td><td>1/22/2020</td><td>555</td></tr><tr><td>1</td><td>1/23/2020</td><td>654</td></tr><tr><td>2</td><td>1/24/2020</td><td>941</td></tr><tr><td>3</td><td>1/25/2020</td><td>1434</td></tr><tr><td>4</td><td>1/26/2020</td><td>2118</td></tr><tr><td>5</td><td>1/27/2020</td><td>2927</td></tr><tr><td>6</td><td>1/28/2020</td><td>5578</td></tr><tr><td>7</td><td>1/29/2020</td><td>6166</td></tr><tr><td>8</td><td>1/30/2020</td><td>8234</td></tr><tr><td>9</td><td>1/31/2020</td><td>9927</td></tr></tbody></table>"
      ]
     },
     "execution_count": 10,
     "metadata": {},
     "output_type": "execute_result"
    }
   ],
   "source": [
    "predictedDf.Head(DEFAULT_ROW_COUNT)"
   ]
  },
  {
   "cell_type": "code",
   "execution_count": 11,
   "metadata": {
    "execution": {
     "iopub.execute_input": "2020-05-28T22:23:41.975Z",
     "iopub.status.busy": "2020-05-28T22:23:41.955Z",
     "iopub.status.idle": "2020-05-28T22:23:42.010Z"
    },
    "scrolled": true
   },
   "outputs": [
    {
     "data": {
      "text/html": [
       "<table><thead><th><i>index</i></th><th>Date</th><th>TotalConfirmed</th></thead><tbody><tr><td>0</td><td>4/28/2020</td><td>3097229</td></tr><tr><td>1</td><td>4/29/2020</td><td>3172287</td></tr><tr><td>2</td><td>4/30/2020</td><td>3256910</td></tr><tr><td>3</td><td>5/1/2020</td><td>3343777</td></tr><tr><td>4</td><td>5/2/2020</td><td>3427584</td></tr><tr><td>5</td><td>5/3/2020</td><td>3506729</td></tr><tr><td>6</td><td>5/4/2020</td><td>3583055</td></tr><tr><td>7</td><td>5/5/2020</td><td>3662691</td></tr><tr><td>8</td><td>5/6/2020</td><td>3755341</td></tr><tr><td>9</td><td>5/7/2020</td><td>3845718</td></tr></tbody></table>"
      ]
     },
     "execution_count": 11,
     "metadata": {},
     "output_type": "execute_result"
    }
   ],
   "source": [
    "predictedDf.Tail(DEFAULT_ROW_COUNT)"
   ]
  },
  {
   "cell_type": "code",
   "execution_count": 12,
   "metadata": {
    "execution": {
     "iopub.execute_input": "2020-05-28T22:23:42.473Z",
     "iopub.status.busy": "2020-05-28T22:23:42.462Z",
     "iopub.status.idle": "2020-05-28T22:23:42.501Z"
    },
    "scrolled": true
   },
   "outputs": [
    {
     "data": {
      "text/html": [
       "<table><thead><th><i>index</i></th><th>Description</th><th>TotalConfirmed</th></thead><tbody><tr><td>0</td><td>Length (excluding null values)</td><td>107</td></tr><tr><td>1</td><td>Max</td><td>3845718</td></tr><tr><td>2</td><td>Min</td><td>555</td></tr><tr><td>3</td><td>Mean</td><td>923109.56</td></tr></tbody></table>"
      ]
     },
     "execution_count": 12,
     "metadata": {},
     "output_type": "execute_result"
    }
   ],
   "source": [
    "predictedDf.Description()"
   ]
  },
  {
   "cell_type": "markdown",
   "metadata": {},
   "source": [
    "##### Number of Confirmed cases over Time"
   ]
  },
  {
   "cell_type": "code",
   "execution_count": 13,
   "metadata": {
    "execution": {
     "iopub.execute_input": "2020-05-28T22:23:43.377Z",
     "iopub.status.busy": "2020-05-28T22:23:43.358Z",
     "iopub.status.idle": "2020-05-28T22:23:43.395Z"
    }
   },
   "outputs": [],
   "source": [
    "// Number of confirmed cases over time\n",
    "var totalConfirmedDateColumn = predictedDf.Columns[DATE_COLUMN];\n",
    "var totalConfirmedColumn = predictedDf.Columns[TOTAL_CONFIRMED_COLUMN];\n",
    "\n",
    "var dates = new List<DateTime>();\n",
    "var totalConfirmedCases = new List<string>();\n",
    "for (int index = 0; index < totalConfirmedDateColumn.Length; index++)\n",
    "{\n",
    "    dates.Add(Convert.ToDateTime(totalConfirmedDateColumn[index]));\n",
    "    totalConfirmedCases.Add(totalConfirmedColumn[index].ToString());\n",
    "}"
   ]
  },
  {
   "cell_type": "code",
   "execution_count": 14,
   "metadata": {
    "execution": {
     "iopub.execute_input": "2020-05-28T22:23:43.879Z",
     "iopub.status.busy": "2020-05-28T22:23:43.863Z",
     "iopub.status.idle": "2020-05-28T22:23:43.947Z"
    },
    "scrolled": true
   },
   "outputs": [
    {
     "data": {
      "text/html": [
       "<div id=\"06692f77-a924-47e6-94a0-685620212a41\" style=\"width: 900px; height: 500px;\"></div>\r\n",
       "<script type=\"text/javascript\">\r\n",
       "\r\n",
       "var renderPlotly = function() {\r\n",
       "    var xplotRequire = requirejs.config({context:'xplot-3.0.1',paths:{plotly:'https://cdn.plot.ly/plotly-1.49.2.min'}});\r\n",
       "    xplotRequire(['plotly'], function(Plotly) {\r\n",
       "\n",
       "            var data = [{\"type\":\"scattergl\",\"x\":[\"2020-01-22T00:00:00\",\"2020-01-23T00:00:00\",\"2020-01-24T00:00:00\",\"2020-01-25T00:00:00\",\"2020-01-26T00:00:00\",\"2020-01-27T00:00:00\",\"2020-01-28T00:00:00\",\"2020-01-29T00:00:00\",\"2020-01-30T00:00:00\",\"2020-01-31T00:00:00\",\"2020-02-01T00:00:00\",\"2020-02-02T00:00:00\",\"2020-02-03T00:00:00\",\"2020-02-04T00:00:00\",\"2020-02-05T00:00:00\",\"2020-02-06T00:00:00\",\"2020-02-07T00:00:00\",\"2020-02-08T00:00:00\",\"2020-02-09T00:00:00\",\"2020-02-10T00:00:00\",\"2020-02-11T00:00:00\",\"2020-02-12T00:00:00\",\"2020-02-13T00:00:00\",\"2020-02-14T00:00:00\",\"2020-02-15T00:00:00\",\"2020-02-16T00:00:00\",\"2020-02-17T00:00:00\",\"2020-02-18T00:00:00\",\"2020-02-19T00:00:00\",\"2020-02-20T00:00:00\",\"2020-02-21T00:00:00\",\"2020-02-22T00:00:00\",\"2020-02-23T00:00:00\",\"2020-02-24T00:00:00\",\"2020-02-25T00:00:00\",\"2020-02-26T00:00:00\",\"2020-02-27T00:00:00\",\"2020-02-28T00:00:00\",\"2020-02-29T00:00:00\",\"2020-03-01T00:00:00\",\"2020-03-02T00:00:00\",\"2020-03-03T00:00:00\",\"2020-03-04T00:00:00\",\"2020-03-05T00:00:00\",\"2020-03-06T00:00:00\",\"2020-03-07T00:00:00\",\"2020-03-08T00:00:00\",\"2020-03-09T00:00:00\",\"2020-03-10T00:00:00\",\"2020-03-11T00:00:00\",\"2020-03-12T00:00:00\",\"2020-03-13T00:00:00\",\"2020-03-14T00:00:00\",\"2020-03-15T00:00:00\",\"2020-03-16T00:00:00\",\"2020-03-17T00:00:00\",\"2020-03-18T00:00:00\",\"2020-03-19T00:00:00\",\"2020-03-20T00:00:00\",\"2020-03-21T00:00:00\",\"2020-03-22T00:00:00\",\"2020-03-23T00:00:00\",\"2020-03-24T00:00:00\",\"2020-03-25T00:00:00\",\"2020-03-26T00:00:00\",\"2020-03-27T00:00:00\",\"2020-03-28T00:00:00\",\"2020-03-29T00:00:00\",\"2020-03-30T00:00:00\",\"2020-03-31T00:00:00\",\"2020-04-01T00:00:00\",\"2020-04-02T00:00:00\",\"2020-04-03T00:00:00\",\"2020-04-04T00:00:00\",\"2020-04-05T00:00:00\",\"2020-04-06T00:00:00\",\"2020-04-07T00:00:00\",\"2020-04-08T00:00:00\",\"2020-04-09T00:00:00\",\"2020-04-10T00:00:00\",\"2020-04-11T00:00:00\",\"2020-04-12T00:00:00\",\"2020-04-13T00:00:00\",\"2020-04-14T00:00:00\",\"2020-04-15T00:00:00\",\"2020-04-16T00:00:00\",\"2020-04-17T00:00:00\",\"2020-04-18T00:00:00\",\"2020-04-19T00:00:00\",\"2020-04-20T00:00:00\",\"2020-04-21T00:00:00\",\"2020-04-22T00:00:00\",\"2020-04-23T00:00:00\",\"2020-04-24T00:00:00\",\"2020-04-25T00:00:00\",\"2020-04-26T00:00:00\",\"2020-04-27T00:00:00\",\"2020-04-28T00:00:00\",\"2020-04-29T00:00:00\",\"2020-04-30T00:00:00\",\"2020-05-01T00:00:00\",\"2020-05-02T00:00:00\",\"2020-05-03T00:00:00\",\"2020-05-04T00:00:00\",\"2020-05-05T00:00:00\",\"2020-05-06T00:00:00\",\"2020-05-07T00:00:00\"],\"y\":[\"555\",\"654\",\"941\",\"1434\",\"2118\",\"2927\",\"5578\",\"6166\",\"8234\",\"9927\",\"12038\",\"16787\",\"19881\",\"23892\",\"27635\",\"30794\",\"34391\",\"37120\",\"40150\",\"42762\",\"44802\",\"45221\",\"60368\",\"66885\",\"69030\",\"71224\",\"73258\",\"75136\",\"75639\",\"76197\",\"76819\",\"78572\",\"78958\",\"79561\",\"80406\",\"81388\",\"82746\",\"84112\",\"86011\",\"88369\",\"90306\",\"92840\",\"95120\",\"97886\",\"101801\",\"105847\",\"109821\",\"113590\",\"118620\",\"125875\",\"128352\",\"145219\",\"156116\",\"167466\",\"181603\",\"197113\",\"214846\",\"242616\",\"272247\",\"304555\",\"337018\",\"378282\",\"418079\",\"467723\",\"529701\",\"593423\",\"660824\",\"720285\",\"782490\",\"857608\",\"932638\",\"1013458\",\"1095876\",\"1176059\",\"1249737\",\"1321427\",\"1396438\",\"1480200\",\"1565538\",\"1657929\",\"1736025\",\"1835145\",\"1905157\",\"1975557\",\"2055423\",\"2151792\",\"2239628\",\"2317234\",\"2400776\",\"2471727\",\"2549038\",\"2624602\",\"2708403\",\"2795731\",\"2881140\",\"2955033\",\"3023722\",\"3097229\",\"3172287\",\"3256910\",\"3343777\",\"3427584\",\"3506729\",\"3583055\",\"3662691\",\"3755341\",\"3845718\"],\"mode\":\"lines+markers\"}];\n",
       "            var layout = {\"title\":\"Number of Confirmed Cases over Time\"};\n",
       "            Plotly.newPlot('06692f77-a924-47e6-94a0-685620212a41', data, layout);\n",
       "        \r\n",
       "});\r\n",
       "};\r\n",
       "if ((typeof(requirejs) !==  typeof(Function)) || (typeof(requirejs.config) !== typeof(Function))) { \r\n",
       "    var script = document.createElement(\"script\"); \r\n",
       "    script.setAttribute(\"src\", \"https://cdnjs.cloudflare.com/ajax/libs/require.js/2.3.6/require.min.js\"); \r\n",
       "    script.onload = function(){\r\n",
       "        renderPlotly();\r\n",
       "    };\r\n",
       "    document.getElementsByTagName(\"head\")[0].appendChild(script); \r\n",
       "}\r\n",
       "else {\r\n",
       "    renderPlotly();\r\n",
       "}\r\n",
       "</script>\r\n"
      ]
     },
     "metadata": {},
     "output_type": "display_data"
    }
   ],
   "source": [
    "var title = \"Number of Confirmed Cases over Time\";\n",
    "var confirmedTimeGraph = new Graph.Scattergl()\n",
    "    {\n",
    "        x = dates.ToArray(),\n",
    "        y = totalConfirmedCases.ToArray(),\n",
    "        mode = \"lines+markers\"\n",
    "    };\n",
    "\n",
    "var chart = Chart.Plot(confirmedTimeGraph);\n",
    "chart.WithTitle(title);\n",
    "display(chart);"
   ]
  },
  {
   "cell_type": "markdown",
   "metadata": {},
   "source": [
    "**Analysis**\n",
    "- Duration: 1/22/2020 through 5/7/2020\n",
    "- Total records: 107\n",
    "- Case on first day: 555\n",
    "- Case on last day: 3.85 Million\n",
    "- No of confirmed cases was low in the beginning, there was first jump around 2/12/2020 and an exponential jump around 3/22/2020.\n",
    "- Cases have been increasing at an alarming rate in the past two months."
   ]
  },
  {
   "cell_type": "markdown",
   "metadata": {},
   "source": [
    "### 6. Load Data - MLContext"
   ]
  },
  {
   "cell_type": "code",
   "execution_count": 15,
   "metadata": {
    "execution": {
     "iopub.execute_input": "2020-05-28T22:23:46.304Z",
     "iopub.status.busy": "2020-05-28T22:23:46.293Z",
     "iopub.status.idle": "2020-05-28T22:23:46.330Z"
    }
   },
   "outputs": [],
   "source": [
    "var context = new MLContext();\n",
    "var data = context.Data.LoadFromTextFile<ConfirmedData>(CONFIRMED_DATASET_FILE, hasHeader: true, separatorChar: ',');"
   ]
  },
  {
   "cell_type": "markdown",
   "metadata": {
    "execution": {
     "iopub.execute_input": "2020-05-28T22:23:46.737Z",
     "iopub.status.busy": "2020-05-28T22:23:46.726Z",
     "iopub.status.idle": "2020-05-28T22:23:46.819Z"
    }
   },
   "source": [
    "#### Split Dataset"
   ]
  },
  {
   "cell_type": "code",
   "execution_count": 16,
   "metadata": {},
   "outputs": [
    {
     "data": {
      "text/html": [
       "<h4>Training dataset range : 1/22/2020 to 5/1/2020</h4>"
      ]
     },
     "metadata": {},
     "output_type": "display_data"
    },
    {
     "data": {
      "text/html": [
       "<h4>Test dataset range : 5/2/2020 to 5/7/2020</h4>"
      ]
     },
     "metadata": {},
     "output_type": "display_data"
    }
   ],
   "source": [
    "var totalRows = (int)data.GetColumn<float>(\"TotalConfirmed\").ToList().Count;\n",
    "int numTrain = (int)(SPLIT_RATIO * totalRows);\n",
    "var confirmedAtSplit = (int)data.GetColumn<float>(\"TotalConfirmed\").ElementAt(numTrain);\n",
    "var startingDate = data.GetColumn<DateTime>(\"Date\").FirstOrDefault();\n",
    "var endDate = data.GetColumn<DateTime>(\"Date\").LastOrDefault();\n",
    "var dateAtSplit = data.GetColumn<DateTime>(\"Date\").ElementAt(numTrain);\n",
    "    \n",
    "IDataView trainData = context.Data.FilterRowsByColumn(data, \"TotalConfirmed\", upperBound: confirmedAtSplit);\n",
    "IDataView testData = context.Data.FilterRowsByColumn(data, \"TotalConfirmed\", lowerBound: confirmedAtSplit);\n",
    "\n",
    "display(h4($\"Training dataset range : {startingDate.ToShortDateString()} to {dateAtSplit.ToShortDateString()}\"));\n",
    "display(h4($\"Test dataset range : {dateAtSplit.AddDays(1).ToShortDateString()} to {endDate.ToShortDateString()}\"));"
   ]
  },
  {
   "cell_type": "markdown",
   "metadata": {},
   "source": [
    "### 7. ML Pipeline"
   ]
  },
  {
   "cell_type": "markdown",
   "metadata": {},
   "source": [
    "For creating ML Pipeline for a time-series analysis, we'll use [Single Spectrum Analysis](https://en.wikipedia.org/wiki/Singular_spectrum_analysis). ML.Net provides built in API for same, more details could be found at [TimeSeriesCatalog.ForecastBySsa](https://docs.microsoft.com/en-us/dotnet/api/microsoft.ml.timeseriescatalog.forecastbyssa?view=ml-dotnet) "
   ]
  },
  {
   "cell_type": "code",
   "execution_count": 17,
   "metadata": {},
   "outputs": [
    {
     "data": {
      "text/plain": [
       "No of Training samples: 100"
      ]
     },
     "metadata": {},
     "output_type": "display_data"
    },
    {
     "data": {
      "text/plain": [
       "Series Lenght: 30"
      ]
     },
     "metadata": {},
     "output_type": "display_data"
    },
    {
     "data": {
      "text/plain": [
       "Window size: 7"
      ]
     },
     "metadata": {},
     "output_type": "display_data"
    },
    {
     "data": {
      "text/plain": [
       "Forecast perion(Days): 7"
      ]
     },
     "metadata": {},
     "output_type": "display_data"
    },
    {
     "data": {
      "text/plain": [
       "CONFIDENCE: 0.95"
      ]
     },
     "metadata": {},
     "output_type": "display_data"
    }
   ],
   "source": [
    "// Parameters\n",
    "\n",
    "display($\"No of Training samples: {numTrain}\");\n",
    "display($\"Series Lenght: {SERIES_LENGTH}\");\n",
    "display($\"Window size: {WINDOW_SIZE}\");\n",
    "display($\"Forecast perion(Days): {HORIZON}\");\n",
    "display($\"CONFIDENCE: {CONFIDENCE_LEVEL}\");"
   ]
  },
  {
   "cell_type": "code",
   "execution_count": 18,
   "metadata": {
    "execution": {
     "iopub.execute_input": "2020-05-28T22:23:51.054Z",
     "iopub.status.busy": "2020-05-28T22:23:51.040Z",
     "iopub.status.idle": "2020-05-28T22:23:51.072Z"
    }
   },
   "outputs": [],
   "source": [
    "var pipeline = context.Forecasting.ForecastBySsa(\n",
    "                nameof(ConfirmedForecast.Forecast),\n",
    "                nameof(ConfirmedData.TotalConfirmed),\n",
    "                WINDOW_SIZE,\n",
    "                SERIES_LENGTH,\n",
    "                trainSize: numTrain,\n",
    "                horizon: HORIZON,\n",
    "                confidenceLevel: CONFIDENCE_LEVEL,\n",
    "                confidenceLowerBoundColumn: nameof(ConfirmedForecast.LowerBoundConfirmed),\n",
    "                confidenceUpperBoundColumn: nameof(ConfirmedForecast.UpperBoundConfirmed));"
   ]
  },
  {
   "cell_type": "markdown",
   "metadata": {},
   "source": [
    "### 8. Train Model"
   ]
  },
  {
   "cell_type": "markdown",
   "metadata": {},
   "source": [
    "We are ready with our pipeline and ready to train the model"
   ]
  },
  {
   "cell_type": "code",
   "execution_count": 19,
   "metadata": {
    "execution": {
     "iopub.execute_input": "2020-05-28T22:24:01.162Z",
     "iopub.status.busy": "2020-05-28T22:24:01.143Z",
     "iopub.status.idle": "2020-05-28T22:24:01.278Z"
    }
   },
   "outputs": [],
   "source": [
    "var model = pipeline.Fit(data);"
   ]
  },
  {
   "cell_type": "markdown",
   "metadata": {},
   "source": [
    "### 9. Evaluate Model\n",
    "\n",
    "We have trained our model and its ready for evaluation. We'll evaluate our model on test dataset and see how it has performed by determining various matrices such as MAE and RMSE"
   ]
  },
  {
   "cell_type": "code",
   "execution_count": 20,
   "metadata": {},
   "outputs": [
    {
     "data": {
      "text/plain": [
       "Evaluation Metrics"
      ]
     },
     "metadata": {},
     "output_type": "display_data"
    },
    {
     "data": {
      "text/plain": [
       "---------------------"
      ]
     },
     "metadata": {},
     "output_type": "display_data"
    },
    {
     "data": {
      "text/plain": [
       "Mean Absolute Error: 85687.070"
      ]
     },
     "metadata": {},
     "output_type": "display_data"
    },
    {
     "data": {
      "text/plain": [
       "Root Mean Squared Error: 480481.195\n"
      ]
     },
     "metadata": {},
     "output_type": "display_data"
    }
   ],
   "source": [
    "IDataView predictions = model.Transform(testData);\n",
    "\n",
    "IEnumerable<float> actual =\n",
    "    context.Data.CreateEnumerable<ConfirmedData>(testData, true)\n",
    "        .Select(observed => observed.TotalConfirmed);\n",
    "\n",
    "IEnumerable<float> forecast =\n",
    "    context.Data.CreateEnumerable<ConfirmedForecast>(predictions, true)\n",
    "        .Select(prediction => prediction.Forecast[0]);\n",
    "\n",
    "var metrics = actual.Zip(forecast, (actualValue, forecastValue) => actualValue - forecastValue);\n",
    "\n",
    "var MAE = metrics.Average(error => Math.Abs(error)); // Mean Absolute Error\n",
    "var RMSE = Math.Sqrt(metrics.Average(error => Math.Pow(error, 2))); // Root Mean Squared Error\n",
    "\n",
    "display(\"Evaluation Metrics\");\n",
    "display(\"---------------------\");\n",
    "display($\"Mean Absolute Error: {MAE:F3}\");\n",
    "display($\"Root Mean Squared Error: {RMSE:F3}\\n\");"
   ]
  },
  {
   "cell_type": "markdown",
   "metadata": {},
   "source": [
    "### 10. Save Model\n",
    "\n",
    "Once we are confirm on the model performance, we can save it as a zip file which can be used later for making prediction."
   ]
  },
  {
   "cell_type": "code",
   "execution_count": 21,
   "metadata": {},
   "outputs": [],
   "source": [
    "var forecastingEngine = model.CreateTimeSeriesEngine<ConfirmedData, ConfirmedForecast>(context);\n",
    "forecastingEngine.CheckPoint(context, MODEL_PATH);"
   ]
  },
  {
   "cell_type": "markdown",
   "metadata": {},
   "source": [
    "### 11. Prediction/Forecasting - 7 days"
   ]
  },
  {
   "cell_type": "markdown",
   "metadata": {},
   "source": [
    "Our model is trained and we need to do prediction for next 7(Horizon) days.\n",
    "Time-series provides its own engine for making prediction which is similar to PredictionEngine present in ML.Net. Predicted values show an increasing trend which is in alignment with recent past values."
   ]
  },
  {
   "cell_type": "code",
   "execution_count": 22,
   "metadata": {},
   "outputs": [],
   "source": [
    "var forecasts = forecastingEngine.Predict();"
   ]
  },
  {
   "cell_type": "code",
   "execution_count": 23,
   "metadata": {},
   "outputs": [
    {
     "data": {
      "text/html": [
       "<h4>Total Confirmed Cases Forecast</h4>"
      ]
     },
     "metadata": {},
     "output_type": "display_data"
    },
    {
     "data": {
      "text/html": [
       "<table><thead><th><i>index</i></th><th>Date</th><th>ActualConfirmed</th><th>LowerEstimate</th><th>Forecast</th><th>UpperEstimate</th></thead><tbody><tr><td>0</td><td>2020-05-01 00:00:00Z</td><td>3343777</td><td>3918628.8</td><td>3931320.5</td><td>3944012.2</td></tr><tr><td>1</td><td>2020-05-02 00:00:00Z</td><td>3427584</td><td>3936862.2</td><td>4007682</td><td>4078501.8</td></tr><tr><td>2</td><td>2020-05-03 00:00:00Z</td><td>3506729</td><td>3962438</td><td>4085376</td><td>4208314</td></tr><tr><td>3</td><td>2020-05-04 00:00:00Z</td><td>3583055</td><td>3990854.8</td><td>4170695.5</td><td>4350536</td></tr><tr><td>4</td><td>2020-05-05 00:00:00Z</td><td>3662691</td><td>4018113</td><td>4263132.5</td><td>4508152</td></tr><tr><td>5</td><td>2020-05-06 00:00:00Z</td><td>3755341</td><td>4026267.8</td><td>4352279</td><td>4678290.5</td></tr><tr><td>6</td><td>2020-05-07 00:00:00Z</td><td>3845718</td><td>4007697.2</td><td>4433297</td><td>4858896.5</td></tr></tbody></table>"
      ]
     },
     "metadata": {},
     "output_type": "display_data"
    }
   ],
   "source": [
    "var forecastOutputs = context.Data.CreateEnumerable<ConfirmedData>(testData, reuseRowObject: false)\n",
    "                .Take(HORIZON)\n",
    "                .Select((ConfirmedData confirmedData, int index) =>\n",
    "                {\n",
    "                    float lowerEstimate = Math.Max(0, forecasts.LowerBoundConfirmed[index]);\n",
    "                    float estimate = forecasts.Forecast[index];\n",
    "                    float upperEstimate = forecasts.UpperBoundConfirmed[index];\n",
    "\n",
    "                    return new ForecastOutput\n",
    "                    {\n",
    "                        ActualConfirmed = confirmedData.TotalConfirmed,\n",
    "                        Date = confirmedData.Date,\n",
    "                        Forecast = estimate,\n",
    "                        LowerEstimate = lowerEstimate,\n",
    "                        UpperEstimate = upperEstimate\n",
    "                    };\n",
    "                });\n",
    "\n",
    "PrimitiveDataFrameColumn<DateTime> forecastDates = new PrimitiveDataFrameColumn<DateTime>(\"Date\"); // Default length is 0.\n",
    "PrimitiveDataFrameColumn<float> actualConfirmedCases = new PrimitiveDataFrameColumn<float>(\"ActualConfirmed\"); // Makes a column of length 3. Filled with nulls initially\n",
    "PrimitiveDataFrameColumn<float> forecastCases = new PrimitiveDataFrameColumn<float>(\"Forecast\"); // Makes a column of length 3. Filled with nulls initially\n",
    "PrimitiveDataFrameColumn<float> lowerEstimates = new PrimitiveDataFrameColumn<float>(\"LowerEstimate\"); // Makes a column of length 3. Filled with nulls initially\n",
    "PrimitiveDataFrameColumn<float> upperEstimates = new PrimitiveDataFrameColumn<float>(\"UpperEstimate\"); // Makes a column of length 3. Filled with nulls initially\n",
    "\n",
    "foreach (var output in forecastOutputs)\n",
    "{\n",
    "    forecastDates.Append(output.Date);\n",
    "    actualConfirmedCases.Append(output.ActualConfirmed);\n",
    "    forecastCases.Append(output.Forecast);\n",
    "    lowerEstimates.Append(output.LowerEstimate);\n",
    "    upperEstimates.Append(output.UpperEstimate);\n",
    "}\n",
    "\n",
    "display(h4(\"Total Confirmed Cases Forecast\"));\n",
    "var forecastDataFrame = new DataFrame(forecastDates, actualConfirmedCases, lowerEstimates, forecastCases, upperEstimates);\n",
    "display(forecastDataFrame)"
   ]
  },
  {
   "cell_type": "markdown",
   "metadata": {},
   "source": [
    "### 12. Prediction Visualization"
   ]
  },
  {
   "cell_type": "code",
   "execution_count": 24,
   "metadata": {},
   "outputs": [
    {
     "data": {
      "text/html": [
       "<div id=\"56c3d5f4-a407-4de7-b3b7-ccc14cb943dd\" style=\"width: 900px; height: 500px;\"></div>\r\n",
       "<script type=\"text/javascript\">\r\n",
       "\r\n",
       "var renderPlotly = function() {\r\n",
       "    var xplotRequire = requirejs.config({context:'xplot-3.0.1',paths:{plotly:'https://cdn.plot.ly/plotly-1.49.2.min'}});\r\n",
       "    xplotRequire(['plotly'], function(Plotly) {\r\n",
       "\n",
       "            var data = [{\"type\":\"scattergl\",\"x\":[\"2020-01-22T00:00:00\",\"2020-01-23T00:00:00\",\"2020-01-24T00:00:00\",\"2020-01-25T00:00:00\",\"2020-01-26T00:00:00\",\"2020-01-27T00:00:00\",\"2020-01-28T00:00:00\",\"2020-01-29T00:00:00\",\"2020-01-30T00:00:00\",\"2020-01-31T00:00:00\",\"2020-02-01T00:00:00\",\"2020-02-02T00:00:00\",\"2020-02-03T00:00:00\",\"2020-02-04T00:00:00\",\"2020-02-05T00:00:00\",\"2020-02-06T00:00:00\",\"2020-02-07T00:00:00\",\"2020-02-08T00:00:00\",\"2020-02-09T00:00:00\",\"2020-02-10T00:00:00\",\"2020-02-11T00:00:00\",\"2020-02-12T00:00:00\",\"2020-02-13T00:00:00\",\"2020-02-14T00:00:00\",\"2020-02-15T00:00:00\",\"2020-02-16T00:00:00\",\"2020-02-17T00:00:00\",\"2020-02-18T00:00:00\",\"2020-02-19T00:00:00\",\"2020-02-20T00:00:00\",\"2020-02-21T00:00:00\",\"2020-02-22T00:00:00\",\"2020-02-23T00:00:00\",\"2020-02-24T00:00:00\",\"2020-02-25T00:00:00\",\"2020-02-26T00:00:00\",\"2020-02-27T00:00:00\",\"2020-02-28T00:00:00\",\"2020-02-29T00:00:00\",\"2020-03-01T00:00:00\",\"2020-03-02T00:00:00\",\"2020-03-03T00:00:00\",\"2020-03-04T00:00:00\",\"2020-03-05T00:00:00\",\"2020-03-06T00:00:00\",\"2020-03-07T00:00:00\",\"2020-03-08T00:00:00\",\"2020-03-09T00:00:00\",\"2020-03-10T00:00:00\",\"2020-03-11T00:00:00\",\"2020-03-12T00:00:00\",\"2020-03-13T00:00:00\",\"2020-03-14T00:00:00\",\"2020-03-15T00:00:00\",\"2020-03-16T00:00:00\",\"2020-03-17T00:00:00\",\"2020-03-18T00:00:00\",\"2020-03-19T00:00:00\",\"2020-03-20T00:00:00\",\"2020-03-21T00:00:00\",\"2020-03-22T00:00:00\",\"2020-03-23T00:00:00\",\"2020-03-24T00:00:00\",\"2020-03-25T00:00:00\",\"2020-03-26T00:00:00\",\"2020-03-27T00:00:00\",\"2020-03-28T00:00:00\",\"2020-03-29T00:00:00\",\"2020-03-30T00:00:00\",\"2020-03-31T00:00:00\",\"2020-04-01T00:00:00\",\"2020-04-02T00:00:00\",\"2020-04-03T00:00:00\",\"2020-04-04T00:00:00\",\"2020-04-05T00:00:00\",\"2020-04-06T00:00:00\",\"2020-04-07T00:00:00\",\"2020-04-08T00:00:00\",\"2020-04-09T00:00:00\",\"2020-04-10T00:00:00\",\"2020-04-11T00:00:00\",\"2020-04-12T00:00:00\",\"2020-04-13T00:00:00\",\"2020-04-14T00:00:00\",\"2020-04-15T00:00:00\",\"2020-04-16T00:00:00\",\"2020-04-17T00:00:00\",\"2020-04-18T00:00:00\",\"2020-04-19T00:00:00\",\"2020-04-20T00:00:00\",\"2020-04-21T00:00:00\",\"2020-04-22T00:00:00\",\"2020-04-23T00:00:00\",\"2020-04-24T00:00:00\",\"2020-04-25T00:00:00\",\"2020-04-26T00:00:00\",\"2020-04-27T00:00:00\",\"2020-04-28T00:00:00\",\"2020-04-29T00:00:00\",\"2020-04-30T00:00:00\",\"2020-05-01T00:00:00Z\",\"2020-05-02T00:00:00Z\",\"2020-05-03T00:00:00Z\",\"2020-05-04T00:00:00Z\",\"2020-05-05T00:00:00Z\",\"2020-05-06T00:00:00Z\",\"2020-05-07T00:00:00Z\"],\"y\":[\"555\",\"654\",\"941\",\"1434\",\"2118\",\"2927\",\"5578\",\"6166\",\"8234\",\"9927\",\"12038\",\"16787\",\"19881\",\"23892\",\"27635\",\"30794\",\"34391\",\"37120\",\"40150\",\"42762\",\"44802\",\"45221\",\"60368\",\"66885\",\"69030\",\"71224\",\"73258\",\"75136\",\"75639\",\"76197\",\"76819\",\"78572\",\"78958\",\"79561\",\"80406\",\"81388\",\"82746\",\"84112\",\"86011\",\"88369\",\"90306\",\"92840\",\"95120\",\"97886\",\"101801\",\"105847\",\"109821\",\"113590\",\"118620\",\"125875\",\"128352\",\"145219\",\"156116\",\"167466\",\"181603\",\"197113\",\"214846\",\"242616\",\"272247\",\"304555\",\"337018\",\"378282\",\"418079\",\"467723\",\"529701\",\"593423\",\"660824\",\"720285\",\"782490\",\"857608\",\"932638\",\"1013458\",\"1095876\",\"1176059\",\"1249737\",\"1321427\",\"1396438\",\"1480200\",\"1565538\",\"1657929\",\"1736025\",\"1835145\",\"1905157\",\"1975557\",\"2055423\",\"2151792\",\"2239628\",\"2317234\",\"2400776\",\"2471727\",\"2549038\",\"2624602\",\"2708403\",\"2795731\",\"2881140\",\"2955033\",\"3023722\",\"3097229\",\"3172287\",\"3256910\",\"3931320.5\",\"4007682\",\"4085376\",\"4170695.5\",\"4263132.5\",\"4352279\",\"4433297\"],\"mode\":\"lines+markers\"}];\n",
       "            var layout = {\"title\":\"Number of Confirmed Cases over Time\",\"shapes\":[{\"xref\":\"x\",\"x0\":\"2020-04-30T00:00:00Z\",\"x1\":\"2020-04-30T00:00:00Z\",\"yref\":\"paper\",\"y0\":\"0\",\"y1\":\"1\",\"line\":{\"color\":\"red\",\"width\":2}}]};\n",
       "            Plotly.newPlot('56c3d5f4-a407-4de7-b3b7-ccc14cb943dd', data, layout);\n",
       "        \r\n",
       "});\r\n",
       "};\r\n",
       "if ((typeof(requirejs) !==  typeof(Function)) || (typeof(requirejs.config) !== typeof(Function))) { \r\n",
       "    var script = document.createElement(\"script\"); \r\n",
       "    script.setAttribute(\"src\", \"https://cdnjs.cloudflare.com/ajax/libs/require.js/2.3.6/require.min.js\"); \r\n",
       "    script.onload = function(){\r\n",
       "        renderPlotly();\r\n",
       "    };\r\n",
       "    document.getElementsByTagName(\"head\")[0].appendChild(script); \r\n",
       "}\r\n",
       "else {\r\n",
       "    renderPlotly();\r\n",
       "}\r\n",
       "</script>\r\n"
      ]
     },
     "metadata": {},
     "output_type": "display_data"
    },
    {
     "data": {
      "text/html": [
       "<div id=\"1ffbb237-6cc8-4fb6-a2f7-ab64857c57ab\" style=\"width: 600px; height: 600px;\"></div>\r\n",
       "<script type=\"text/javascript\">\r\n",
       "\r\n",
       "var renderPlotly = function() {\r\n",
       "    var xplotRequire = requirejs.config({context:'xplot-3.0.1',paths:{plotly:'https://cdn.plot.ly/plotly-1.49.2.min'}});\r\n",
       "    xplotRequire(['plotly'], function(Plotly) {\r\n",
       "\n",
       "            var data = [{\"type\":\"scattergl\",\"x\":[\"2020-05-01T00:00:00Z\",\"2020-05-02T00:00:00Z\",\"2020-05-03T00:00:00Z\",\"2020-05-04T00:00:00Z\",\"2020-05-05T00:00:00Z\",\"2020-05-06T00:00:00Z\",\"2020-05-07T00:00:00Z\"],\"y\":[3944012.2,4078501.8,4208314.0,4350536.0,4508152.0,4678290.5,4858896.5],\"fill\":\"tonexty\",\"name\":\"Upper bound\"},{\"type\":\"scattergl\",\"x\":[\"2020-05-01T00:00:00Z\",\"2020-05-02T00:00:00Z\",\"2020-05-03T00:00:00Z\",\"2020-05-04T00:00:00Z\",\"2020-05-05T00:00:00Z\",\"2020-05-06T00:00:00Z\",\"2020-05-07T00:00:00Z\"],\"y\":[3931320.5,4007682.0,4085376.0,4170695.5,4263132.5,4352279.0,4433297.0],\"fill\":\"tonexty\",\"name\":\"Forecast\"},{\"type\":\"scattergl\",\"x\":[\"2020-05-01T00:00:00Z\",\"2020-05-02T00:00:00Z\",\"2020-05-03T00:00:00Z\",\"2020-05-04T00:00:00Z\",\"2020-05-05T00:00:00Z\",\"2020-05-06T00:00:00Z\",\"2020-05-07T00:00:00Z\"],\"y\":[3918628.8,3936862.2,3962438.0,3990854.8,4018113.0,4026267.8,4007697.2],\"fill\":\"tonexty\",\"name\":\"Lower bound\"}];\n",
       "            var layout = \"\";\n",
       "            Plotly.newPlot('1ffbb237-6cc8-4fb6-a2f7-ab64857c57ab', data, layout);\n",
       "        \r\n",
       "});\r\n",
       "};\r\n",
       "if ((typeof(requirejs) !==  typeof(Function)) || (typeof(requirejs.config) !== typeof(Function))) { \r\n",
       "    var script = document.createElement(\"script\"); \r\n",
       "    script.setAttribute(\"src\", \"https://cdnjs.cloudflare.com/ajax/libs/require.js/2.3.6/require.min.js\"); \r\n",
       "    script.onload = function(){\r\n",
       "        renderPlotly();\r\n",
       "    };\r\n",
       "    document.getElementsByTagName(\"head\")[0].appendChild(script); \r\n",
       "}\r\n",
       "else {\r\n",
       "    renderPlotly();\r\n",
       "}\r\n",
       "</script>\r\n"
      ]
     },
     "metadata": {},
     "output_type": "display_data"
    }
   ],
   "source": [
    "var predictionStartDate = dateAtSplit.AddDays(-1); // lastDate.AddDays(1);\n",
    "\n",
    "var newDates = new List<DateTime>();\n",
    "var fullDates = new List<DateTime>();\n",
    "fullDates.AddRange(dates.Take(numTrain));\n",
    "\n",
    "var fullTotalConfirmedCases = new List<string>();\n",
    "fullTotalConfirmedCases.AddRange(totalConfirmedCases.Take(numTrain));\n",
    "\n",
    "for (int index = 0; index < HORIZON; index++)\n",
    "{\n",
    "    var nextDate = predictionStartDate.AddDays(index + 1);\n",
    "    newDates.Add(nextDate);\n",
    "    fullTotalConfirmedCases.Add(forecasts.Forecast[index].ToString());\n",
    "}\n",
    "\n",
    "fullDates.AddRange(newDates);\n",
    "\n",
    "var layout = new Layout.Layout();\n",
    "layout.shapes = new List<Graph.Shape>\n",
    "{\n",
    "    new Graph.Shape\n",
    "    {\n",
    "        x0 = predictionStartDate,\n",
    "        x1 = predictionStartDate,\n",
    "        y0 = \"0\",\n",
    "        y1 = \"1\",\n",
    "        xref = 'x',\n",
    "        yref = \"paper\",\n",
    "        line = new Graph.Line() {color = \"red\", width = 2}\n",
    "    }\n",
    "};\n",
    "\n",
    "var predictionChart = Chart.Plot(\n",
    "    new[]\n",
    "    {\n",
    "        new Graph.Scattergl()\n",
    "        {\n",
    "            x = fullDates.ToArray(),\n",
    "            y = fullTotalConfirmedCases.ToArray(),\n",
    "            mode = \"lines+markers\"\n",
    "        }\n",
    "    },\n",
    "    layout\n",
    ");\n",
    "\n",
    "predictionChart.WithTitle(\"Number of Confirmed Cases over Time\");\n",
    "display(predictionChart);\n",
    "\n",
    "Graph.Scattergl[] scatters = {\n",
    "    new Graph.Scattergl() {\n",
    "        x = newDates,\n",
    "        y = forecasts.UpperBoundConfirmed,\n",
    "        fill = \"tonexty\",\n",
    "        name = \"Upper bound\"\n",
    "    },\n",
    "    new Graph.Scattergl() {\n",
    "        x = newDates,\n",
    "        y = forecasts.Forecast,\n",
    "        fill = \"tonexty\",\n",
    "        name = \"Forecast\"\n",
    "    },\n",
    "    new Graph.Scattergl() {\n",
    "        x = newDates,\n",
    "        y = forecasts.LowerBoundConfirmed,\n",
    "        fill = \"tonexty\",\n",
    "        name = \"Lower bound\"\n",
    "    }\n",
    "};\n",
    "\n",
    "var predictionChart2 = Chart.Plot(scatters);\n",
    "predictionChart2.Width = 600;\n",
    "predictionChart2.Height = 600;\n",
    "display(predictionChart2);"
   ]
  },
  {
   "cell_type": "markdown",
   "metadata": {},
   "source": [
    "### 13. Analysis"
   ]
  },
  {
   "cell_type": "markdown",
   "metadata": {},
   "source": [
    "Looking at the first plot above, it seems our ML model has performed reasonably well. The red line represents the data on future dates(7 days) taken from test data between May 5 through May 11. Looking at the plot, there is a sudden rise at the beginning which could be accounted due to insufficient data as we have only 107 records. However we see an increasing trend for next 7 days in alignment with previous confirmed cases. We can extend this model for predicting confirmed cases for any number of days by changing HORIZON constant value. This plot is helpful in analysing the increased number of cases and allow authorities to take precautionary measures to keep the numbers low."
   ]
  },
  {
   "cell_type": "markdown",
   "metadata": {},
   "source": [
    "## Conclusion"
   ]
  },
  {
   "cell_type": "markdown",
   "metadata": {},
   "source": [
    "I hope you have enjoyed reading the notebook, and might have got some idea on the powerful framework ML.Net. ML.Net is a very fast emerging framework for .Net developers which abstracts lot of complexity present in the field of Data science and Machine Learning. The focus of Part-2 notebook is leverage ML.Net for making predictions using time-series API. The model generated can be saved as a zip file and used in different applications.\n",
    "\n",
    "Feedback/Suggestion/Correction is welcome. Please reach out to me through below channels\n",
    "\n",
    "**Contact**\n",
    "\n",
    "**Twitter  :** @praveenraghuvan\n",
    "\n",
    "**Email    :** praveenraghuvanshi@gmail.com \n",
    "\n",
    "**LinkedIn :** https://in.linkedin.com/in/praveenraghuvanshi  \n",
    "**Github   :** https://github.com/praveenraghuvanshi\n",
    "\n",
    "**dev.to   :** https://dev.to/praveenraghuvanshi\n",
    "\n"
   ]
  },
  {
   "cell_type": "markdown",
   "metadata": {},
   "source": [
    "## References\n",
    "- [Tutorial: Forecast bike rental service demand with time series analysis and ML.NET](https://docs.microsoft.com/en-us/dotnet/machine-learning/tutorials/time-series-demand-forecasting#evaluate-the-model)\n",
    "- [Time Series Forecasting in ML.NET and Azure ML notebooks](https://github.com/gvashishtha/time-series-mlnet/blob/master/time-series-forecast.ipynb)"
   ]
  },
  {
   "cell_type": "markdown",
   "metadata": {},
   "source": [
    "#  ******************** Be Safe **********************"
   ]
  }
 ],
 "metadata": {
  "kernelspec": {
   "display_name": ".NET (C#)",
   "language": "C#",
   "name": ".net-csharp"
  },
  "language_info": {
   "file_extension": ".cs",
   "mimetype": "text/x-csharp",
   "name": "C#",
   "pygments_lexer": "csharp",
   "version": "8.0"
  },
  "nteract": {
   "version": "0.23.3"
  }
 },
 "nbformat": 4,
 "nbformat_minor": 2
}
